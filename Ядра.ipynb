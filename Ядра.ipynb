{
 "cells": [
  {
   "cell_type": "markdown",
   "metadata": {
    "id": "f7uHmP9pEF0O"
   },
   "source": [
    "Посмотрим, как с помощью ядрового метода опорных векторов можно решать задачи классификации с нелинейной зависимостью целевой переменной от признаков.\n",
    "\n",
    "Сгенерируем данные для задачи."
   ]
  },
  {
   "cell_type": "code",
   "execution_count": null,
   "metadata": {
    "id": "z70chspNBHzI"
   },
   "outputs": [],
   "source": [
    "import numpy as np\n",
    "from sklearn.datasets import make_circles\n",
    "from sklearn.svm import SVC\n",
    "from matplotlib import pyplot as plt\n",
    "\n",
    "X, y = make_circles(100, factor=.1, noise=.1)"
   ]
  },
  {
   "cell_type": "markdown",
   "metadata": {
    "id": "YuR3CbW5EUTm"
   },
   "source": [
    "Ниже указана функция для визуализации разделяющей поверхности и разделяющей полосы метода опорных векторов."
   ]
  },
  {
   "cell_type": "code",
   "execution_count": null,
   "metadata": {
    "id": "z6ucEk4dDeBA"
   },
   "outputs": [],
   "source": [
    "def plot_svc_decision_function(model, ax=None, plot_support=True):\n",
    "\n",
    "    if ax is None:\n",
    "        ax = plt.gca()\n",
    "    xlim = ax.get_xlim()\n",
    "    ylim = ax.get_ylim()\n",
    "    \n",
    "    x = np.linspace(xlim[0], xlim[1], 30)\n",
    "    y = np.linspace(ylim[0], ylim[1], 30)\n",
    "    Y, X = np.meshgrid(y, x)\n",
    "    xy = np.vstack([X.ravel(), Y.ravel()]).T\n",
    "    P = model.decision_function(xy).reshape(X.shape)\n",
    "    \n",
    "    ax.contour(X, Y, P, colors='k',\n",
    "               levels=[-1, 0, 1], alpha=0.5,\n",
    "               linestyles=['--', '-', '--'])\n",
    "    \n",
    "    if plot_support:\n",
    "        ax.scatter(model.support_vectors_[:, 0],\n",
    "                   model.support_vectors_[:, 1],\n",
    "                   s=300, linewidth=1, facecolors='none');\n",
    "    ax.set_xlim(xlim)\n",
    "    ax.set_ylim(ylim)"
   ]
  },
  {
   "cell_type": "markdown",
   "metadata": {
    "id": "NJgPjLImEbX4"
   },
   "source": [
    "Сначала обучим линейный метод опорных векторов и нарисуем результат."
   ]
  },
  {
   "cell_type": "code",
   "execution_count": null,
   "metadata": {
    "id": "ddDwzAnECO8Z"
   },
   "outputs": [],
   "source": []
  },
  {
   "cell_type": "code",
   "execution_count": null,
   "metadata": {
    "id": "Ix1LQ23WDOjt"
   },
   "outputs": [],
   "source": []
  },
  {
   "cell_type": "markdown",
   "metadata": {
    "id": "LtPTETjtEfUZ"
   },
   "source": [
    "Очевидно, метод плохо справился с решением задачи.\n",
    "\n",
    "Попробуем другое ядро, например, сигмоидальное.\n",
    "\n",
    "Среди стандартных ядер в sklearn есть:\n",
    "*  rbf,\n",
    "*  sigmoid,\n",
    "*  poly.\n",
    "\n",
    "Явные формулы для этих преобразований довольно сложные, их можно изучить в [документации библиотеки](https://scikit-learn.org/stable/modules/svm.html#svm-kernels)."
   ]
  },
  {
   "cell_type": "markdown",
   "metadata": {
    "id": "KtNRMMmlFMZq"
   },
   "source": [
    "Попробуем применить SVM с сигмоидальным ядром."
   ]
  },
  {
   "cell_type": "code",
   "execution_count": null,
   "metadata": {
    "id": "SblfYISiDWaW"
   },
   "outputs": [],
   "source": []
  },
  {
   "cell_type": "markdown",
   "metadata": {
    "id": "uxYgTWqNEDpn"
   },
   "source": [
    "А теперь — SVM с радиальным ядром."
   ]
  },
  {
   "cell_type": "code",
   "execution_count": null,
   "metadata": {
    "id": "YVZ_zDluD1vG"
   },
   "outputs": [],
   "source": []
  },
  {
   "cell_type": "markdown",
   "metadata": {
    "id": "asOP17EiFSKa"
   },
   "source": [
    "SVM с радиальным ядром очень хорошо сработал на таких данных, потому что в данных легко угадываются круги. На практике, однако, подобрать нужное ядро не всегда просто, и нет гарантии, что подбор ядра из списка стандартных ядер sklearn поможет методу хорошо справиться с задачей классификации. Но нужно пробовать!"
   ]
  }
 ],
 "metadata": {
  "colab": {
   "collapsed_sections": [],
   "provenance": []
  },
  "kernelspec": {
   "display_name": "Python 3 (ipykernel)",
   "language": "python",
   "name": "python3"
  },
  "language_info": {
   "codemirror_mode": {
    "name": "ipython",
    "version": 3
   },
   "file_extension": ".py",
   "mimetype": "text/x-python",
   "name": "python",
   "nbconvert_exporter": "python",
   "pygments_lexer": "ipython3",
   "version": "3.9.7"
  }
 },
 "nbformat": 4,
 "nbformat_minor": 1
}

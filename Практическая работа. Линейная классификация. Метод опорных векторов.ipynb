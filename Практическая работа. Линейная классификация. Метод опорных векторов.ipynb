{
 "cells": [
  {
   "cell_type": "markdown",
   "metadata": {
    "id": "CIu2DPx5tWcg"
   },
   "source": [
    "## Практическая работа"
   ]
  },
  {
   "cell_type": "markdown",
   "metadata": {
    "id": "MEdLy24do28f"
   },
   "source": [
    "## Цели практической работы\n",
    "\n",
    "*  решить реальную задачу;\n",
    "*  потренироваться в обработке данных;\n",
    "*  обучить различные модели классификации, подобрать гиперпараметры и выбрать лучшую модель;\n",
    "*  добиться наилучшего качества в задаче."
   ]
  },
  {
   "cell_type": "markdown",
   "metadata": {
    "id": "d6oxDXgFpD_6"
   },
   "source": [
    "## Что входит в практическую работу\n",
    "\n",
    "*  исследование датасета и обработка данных (работа с пропущенными и ошибочными значениями);\n",
    "*  обучение различных моделей классификации с параметрами по умолчанию;\n",
    "*  подбор гиперпараметров моделей;\n",
    "*  смешивание моделей;\n",
    "*  оценка качества моделей."
   ]
  },
  {
   "cell_type": "markdown",
   "metadata": {
    "id": "WOZ8SueHpZGd"
   },
   "source": [
    "## Что оценивается\n",
    "\n",
    "*  Выполнены все этапы задания: код запускается, отрабатывает без ошибок; подробно и обоснованно написаны текстовые выводы, где это требуется."
   ]
  },
  {
   "cell_type": "markdown",
   "metadata": {
    "id": "UMr-wvh3pbrK"
   },
   "source": [
    "## Формат сдачи\n",
    "Выполните предложенные задания: впишите свой код (или, если требуется, текст) в ячейки после комментариев. \n",
    "\n",
    "*Комментарии — это текст, который начинается с символа #. Например: # ваш код здесь.*\n",
    "\n",
    "Сохраните изменения, используя опцию Save and Checkpoint из вкладки меню File или кнопку Save and Checkpoint на панели инструментов. Итоговый файл в формате .ipynb (файл Jupyter Notebook) загрузите в личный кабинет и отправьте на проверку."
   ]
  },
  {
   "cell_type": "markdown",
   "metadata": {
    "id": "ENiWYl_EtWcm"
   },
   "source": [
    "### 1. Загрузите тренировочные и тестовые датасеты"
   ]
  },
  {
   "cell_type": "code",
   "execution_count": 107,
   "metadata": {},
   "outputs": [
    {
     "name": "stdout",
     "output_type": "stream",
     "text": [
      "Requirement already satisfied: category-encoders in c:\\users\\rashid\\anaconda3\\lib\\site-packages (2.6.4)\n",
      "Requirement already satisfied: scipy>=1.0.0 in c:\\users\\rashid\\anaconda3\\lib\\site-packages (from category-encoders) (1.7.1)\n",
      "Requirement already satisfied: scikit-learn>=0.20.0 in c:\\users\\rashid\\anaconda3\\lib\\site-packages (from category-encoders) (0.24.2)\n",
      "Requirement already satisfied: patsy>=0.5.1 in c:\\users\\rashid\\anaconda3\\lib\\site-packages (from category-encoders) (0.5.2)\n",
      "Requirement already satisfied: numpy>=1.14.0 in c:\\users\\rashid\\anaconda3\\lib\\site-packages (from category-encoders) (1.20.3)\n",
      "Requirement already satisfied: statsmodels>=0.9.0 in c:\\users\\rashid\\anaconda3\\lib\\site-packages (from category-encoders) (0.12.2)\n",
      "Requirement already satisfied: pandas>=1.0.5 in c:\\users\\rashid\\anaconda3\\lib\\site-packages (from category-encoders) (1.3.4)\n",
      "Requirement already satisfied: python-dateutil>=2.7.3 in c:\\users\\rashid\\anaconda3\\lib\\site-packages (from pandas>=1.0.5->category-encoders) (2.8.2)\n",
      "Requirement already satisfied: pytz>=2017.3 in c:\\users\\rashid\\anaconda3\\lib\\site-packages (from pandas>=1.0.5->category-encoders) (2021.3)\n",
      "Requirement already satisfied: six in c:\\users\\rashid\\anaconda3\\lib\\site-packages (from patsy>=0.5.1->category-encoders) (1.16.0)\n",
      "Requirement already satisfied: threadpoolctl>=2.0.0 in c:\\users\\rashid\\anaconda3\\lib\\site-packages (from scikit-learn>=0.20.0->category-encoders) (2.2.0)\n",
      "Requirement already satisfied: joblib>=0.11 in c:\\users\\rashid\\anaconda3\\lib\\site-packages (from scikit-learn>=0.20.0->category-encoders) (1.1.0)\n",
      "Note: you may need to restart the kernel to use updated packages.\n"
     ]
    }
   ],
   "source": [
    "%pip install category-encoders"
   ]
  },
  {
   "cell_type": "code",
   "execution_count": 108,
   "metadata": {
    "id": "_uf-KNwQtWcn"
   },
   "outputs": [],
   "source": [
    "import pandas as pd\n",
    "from category_encoders import TargetEncoder\n",
    "from sklearn.preprocessing import StandardScaler\n",
    "from sklearn.linear_model import LogisticRegression\n",
    "from sklearn.svm import SVC\n",
    "from sklearn.neighbors import KNeighborsClassifier\n",
    "\n",
    "Xtrain = pd.read_csv(\"TrainData.csv\")\n",
    "Xtestdata = pd.read_csv(\"TestData.csv\")"
   ]
  },
  {
   "cell_type": "markdown",
   "metadata": {
    "id": "CaELM2gPtWcq"
   },
   "source": [
    "### 2. Изучите тренировочные и тестовые данные на наличие:\n",
    "- пропусков,\n",
    "- ошибочных значений.\n",
    "\n",
    "Обработайте пропуски и ошибочные значения способом, выбранным по своему усмотрению."
   ]
  },
  {
   "cell_type": "code",
   "execution_count": 109,
   "metadata": {
    "id": "csjvNCCutWcs"
   },
   "outputs": [
    {
     "data": {
      "text/plain": [
       "f1          int64\n",
       "f2        float64\n",
       "f3          int64\n",
       "f4        float64\n",
       "f5          int64\n",
       "f6        float64\n",
       "f7        float64\n",
       "f8        float64\n",
       "f9        float64\n",
       "f10       float64\n",
       "f11       float64\n",
       "f12         int64\n",
       "f13         int64\n",
       "f14       float64\n",
       "target      int64\n",
       "dtype: object"
      ]
     },
     "execution_count": 109,
     "metadata": {},
     "output_type": "execute_result"
    }
   ],
   "source": [
    "# Ваш код здесь\n",
    "# посмотрим тип полей\n",
    "Xtrain.dtypes"
   ]
  },
  {
   "cell_type": "code",
   "execution_count": 110,
   "metadata": {},
   "outputs": [
    {
     "name": "stdout",
     "output_type": "stream",
     "text": [
      "<class 'pandas.core.frame.DataFrame'>\n",
      "RangeIndex: 7500 entries, 0 to 7499\n",
      "Data columns (total 15 columns):\n",
      " #   Column  Non-Null Count  Dtype  \n",
      "---  ------  --------------  -----  \n",
      " 0   f1      7500 non-null   int64  \n",
      " 1   f2      7425 non-null   float64\n",
      " 2   f3      7500 non-null   int64  \n",
      " 3   f4      7500 non-null   float64\n",
      " 4   f5      7500 non-null   int64  \n",
      " 5   f6      7500 non-null   float64\n",
      " 6   f7      5625 non-null   float64\n",
      " 7   f8      7500 non-null   float64\n",
      " 8   f9      7500 non-null   float64\n",
      " 9   f10     7500 non-null   float64\n",
      " 10  f11     7490 non-null   float64\n",
      " 11  f12     7500 non-null   int64  \n",
      " 12  f13     7500 non-null   int64  \n",
      " 13  f14     7500 non-null   float64\n",
      " 14  target  7500 non-null   int64  \n",
      "dtypes: float64(9), int64(6)\n",
      "memory usage: 879.0 KB\n"
     ]
    }
   ],
   "source": [
    "# посмотрим еще раз инофрмацию - посмотрим пропуски\n",
    "Xtrain.info()"
   ]
  },
  {
   "cell_type": "code",
   "execution_count": 111,
   "metadata": {},
   "outputs": [],
   "source": [
    "# функция для вывода информации оо пропусках\n",
    "def print_useful_rows_info(df):\n",
    "    print('Количество полностью заполненных объектов из всей выборки:', \n",
    "          len(df.dropna()))\n",
    "    print('Процент полностью заполненных объектов из всей выборки:', \n",
    "          round(len(df.dropna()) / len(df) * 100, 2))"
   ]
  },
  {
   "cell_type": "code",
   "execution_count": 112,
   "metadata": {},
   "outputs": [
    {
     "name": "stdout",
     "output_type": "stream",
     "text": [
      "Количество полностью заполненных объектов из всей выборки: 5567\n",
      "Процент полностью заполненных объектов из всей выборки: 74.23\n"
     ]
    }
   ],
   "source": [
    "print_useful_rows_info(Xtrain)"
   ]
  },
  {
   "cell_type": "code",
   "execution_count": 113,
   "metadata": {},
   "outputs": [
    {
     "data": {
      "text/html": [
       "<div>\n",
       "<style scoped>\n",
       "    .dataframe tbody tr th:only-of-type {\n",
       "        vertical-align: middle;\n",
       "    }\n",
       "\n",
       "    .dataframe tbody tr th {\n",
       "        vertical-align: top;\n",
       "    }\n",
       "\n",
       "    .dataframe thead th {\n",
       "        text-align: right;\n",
       "    }\n",
       "</style>\n",
       "<table border=\"1\" class=\"dataframe\">\n",
       "  <thead>\n",
       "    <tr style=\"text-align: right;\">\n",
       "      <th></th>\n",
       "      <th>f1</th>\n",
       "      <th>f2</th>\n",
       "      <th>f3</th>\n",
       "      <th>f4</th>\n",
       "      <th>f5</th>\n",
       "      <th>f6</th>\n",
       "      <th>f7</th>\n",
       "      <th>f8</th>\n",
       "      <th>f9</th>\n",
       "      <th>f10</th>\n",
       "      <th>f11</th>\n",
       "      <th>f12</th>\n",
       "      <th>f13</th>\n",
       "      <th>f14</th>\n",
       "      <th>target</th>\n",
       "    </tr>\n",
       "  </thead>\n",
       "  <tbody>\n",
       "    <tr>\n",
       "      <th>15</th>\n",
       "      <td>62</td>\n",
       "      <td>218.593930</td>\n",
       "      <td>121319</td>\n",
       "      <td>0.408246</td>\n",
       "      <td>13</td>\n",
       "      <td>0.445026</td>\n",
       "      <td>NaN</td>\n",
       "      <td>0.444334</td>\n",
       "      <td>25.606721</td>\n",
       "      <td>0.300298</td>\n",
       "      <td>3103.0</td>\n",
       "      <td>0</td>\n",
       "      <td>40</td>\n",
       "      <td>0.244418</td>\n",
       "      <td>1</td>\n",
       "    </tr>\n",
       "    <tr>\n",
       "      <th>23</th>\n",
       "      <td>53</td>\n",
       "      <td>218.593930</td>\n",
       "      <td>167170</td>\n",
       "      <td>0.171817</td>\n",
       "      <td>9</td>\n",
       "      <td>0.066372</td>\n",
       "      <td>NaN</td>\n",
       "      <td>0.103024</td>\n",
       "      <td>12.464986</td>\n",
       "      <td>0.113590</td>\n",
       "      <td>0.0</td>\n",
       "      <td>0</td>\n",
       "      <td>40</td>\n",
       "      <td>0.244418</td>\n",
       "      <td>0</td>\n",
       "    </tr>\n",
       "    <tr>\n",
       "      <th>28</th>\n",
       "      <td>54</td>\n",
       "      <td>218.593930</td>\n",
       "      <td>285854</td>\n",
       "      <td>0.171817</td>\n",
       "      <td>9</td>\n",
       "      <td>0.445026</td>\n",
       "      <td>NaN</td>\n",
       "      <td>0.444334</td>\n",
       "      <td>25.606721</td>\n",
       "      <td>0.300298</td>\n",
       "      <td>0.0</td>\n",
       "      <td>0</td>\n",
       "      <td>40</td>\n",
       "      <td>0.244418</td>\n",
       "      <td>1</td>\n",
       "    </tr>\n",
       "    <tr>\n",
       "      <th>34</th>\n",
       "      <td>29</td>\n",
       "      <td>218.593930</td>\n",
       "      <td>133937</td>\n",
       "      <td>0.726190</td>\n",
       "      <td>16</td>\n",
       "      <td>0.049127</td>\n",
       "      <td>NaN</td>\n",
       "      <td>0.009499</td>\n",
       "      <td>25.606721</td>\n",
       "      <td>0.300298</td>\n",
       "      <td>0.0</td>\n",
       "      <td>0</td>\n",
       "      <td>40</td>\n",
       "      <td>0.244418</td>\n",
       "      <td>0</td>\n",
       "    </tr>\n",
       "    <tr>\n",
       "      <th>37</th>\n",
       "      <td>37</td>\n",
       "      <td>218.593930</td>\n",
       "      <td>227545</td>\n",
       "      <td>0.179322</td>\n",
       "      <td>10</td>\n",
       "      <td>0.445026</td>\n",
       "      <td>NaN</td>\n",
       "      <td>0.444334</td>\n",
       "      <td>25.606721</td>\n",
       "      <td>0.300298</td>\n",
       "      <td>0.0</td>\n",
       "      <td>0</td>\n",
       "      <td>44</td>\n",
       "      <td>0.244418</td>\n",
       "      <td>1</td>\n",
       "    </tr>\n",
       "    <tr>\n",
       "      <th>...</th>\n",
       "      <td>...</td>\n",
       "      <td>...</td>\n",
       "      <td>...</td>\n",
       "      <td>...</td>\n",
       "      <td>...</td>\n",
       "      <td>...</td>\n",
       "      <td>...</td>\n",
       "      <td>...</td>\n",
       "      <td>...</td>\n",
       "      <td>...</td>\n",
       "      <td>...</td>\n",
       "      <td>...</td>\n",
       "      <td>...</td>\n",
       "      <td>...</td>\n",
       "      <td>...</td>\n",
       "    </tr>\n",
       "    <tr>\n",
       "      <th>7463</th>\n",
       "      <td>36</td>\n",
       "      <td>218.593930</td>\n",
       "      <td>118909</td>\n",
       "      <td>0.239316</td>\n",
       "      <td>12</td>\n",
       "      <td>0.049127</td>\n",
       "      <td>NaN</td>\n",
       "      <td>0.066581</td>\n",
       "      <td>12.464986</td>\n",
       "      <td>0.113590</td>\n",
       "      <td>0.0</td>\n",
       "      <td>0</td>\n",
       "      <td>40</td>\n",
       "      <td>0.227273</td>\n",
       "      <td>0</td>\n",
       "    </tr>\n",
       "    <tr>\n",
       "      <th>7468</th>\n",
       "      <td>64</td>\n",
       "      <td>386.473430</td>\n",
       "      <td>199298</td>\n",
       "      <td>0.104575</td>\n",
       "      <td>4</td>\n",
       "      <td>0.066372</td>\n",
       "      <td>NaN</td>\n",
       "      <td>0.066581</td>\n",
       "      <td>25.606721</td>\n",
       "      <td>0.113590</td>\n",
       "      <td>0.0</td>\n",
       "      <td>0</td>\n",
       "      <td>30</td>\n",
       "      <td>0.185185</td>\n",
       "      <td>0</td>\n",
       "    </tr>\n",
       "    <tr>\n",
       "      <th>7473</th>\n",
       "      <td>26</td>\n",
       "      <td>218.593930</td>\n",
       "      <td>270276</td>\n",
       "      <td>0.171817</td>\n",
       "      <td>9</td>\n",
       "      <td>0.049127</td>\n",
       "      <td>NaN</td>\n",
       "      <td>0.103024</td>\n",
       "      <td>25.606721</td>\n",
       "      <td>0.113590</td>\n",
       "      <td>0.0</td>\n",
       "      <td>0</td>\n",
       "      <td>40</td>\n",
       "      <td>0.244418</td>\n",
       "      <td>0</td>\n",
       "    </tr>\n",
       "    <tr>\n",
       "      <th>7479</th>\n",
       "      <td>69</td>\n",
       "      <td>114.416476</td>\n",
       "      <td>171050</td>\n",
       "      <td>0.171817</td>\n",
       "      <td>9</td>\n",
       "      <td>0.066372</td>\n",
       "      <td>NaN</td>\n",
       "      <td>0.103024</td>\n",
       "      <td>25.606721</td>\n",
       "      <td>0.113590</td>\n",
       "      <td>0.0</td>\n",
       "      <td>0</td>\n",
       "      <td>9</td>\n",
       "      <td>0.244418</td>\n",
       "      <td>0</td>\n",
       "    </tr>\n",
       "    <tr>\n",
       "      <th>7495</th>\n",
       "      <td>48</td>\n",
       "      <td>218.593930</td>\n",
       "      <td>329778</td>\n",
       "      <td>0.171817</td>\n",
       "      <td>9</td>\n",
       "      <td>0.066372</td>\n",
       "      <td>NaN</td>\n",
       "      <td>0.066581</td>\n",
       "      <td>25.606721</td>\n",
       "      <td>0.113590</td>\n",
       "      <td>0.0</td>\n",
       "      <td>0</td>\n",
       "      <td>40</td>\n",
       "      <td>0.244418</td>\n",
       "      <td>0</td>\n",
       "    </tr>\n",
       "  </tbody>\n",
       "</table>\n",
       "<p>1875 rows × 15 columns</p>\n",
       "</div>"
      ],
      "text/plain": [
       "      f1          f2      f3        f4  f5        f6  f7        f8         f9  \\\n",
       "15    62  218.593930  121319  0.408246  13  0.445026 NaN  0.444334  25.606721   \n",
       "23    53  218.593930  167170  0.171817   9  0.066372 NaN  0.103024  12.464986   \n",
       "28    54  218.593930  285854  0.171817   9  0.445026 NaN  0.444334  25.606721   \n",
       "34    29  218.593930  133937  0.726190  16  0.049127 NaN  0.009499  25.606721   \n",
       "37    37  218.593930  227545  0.179322  10  0.445026 NaN  0.444334  25.606721   \n",
       "...   ..         ...     ...       ...  ..       ...  ..       ...        ...   \n",
       "7463  36  218.593930  118909  0.239316  12  0.049127 NaN  0.066581  12.464986   \n",
       "7468  64  386.473430  199298  0.104575   4  0.066372 NaN  0.066581  25.606721   \n",
       "7473  26  218.593930  270276  0.171817   9  0.049127 NaN  0.103024  25.606721   \n",
       "7479  69  114.416476  171050  0.171817   9  0.066372 NaN  0.103024  25.606721   \n",
       "7495  48  218.593930  329778  0.171817   9  0.066372 NaN  0.066581  25.606721   \n",
       "\n",
       "           f10     f11  f12  f13       f14  target  \n",
       "15    0.300298  3103.0    0   40  0.244418       1  \n",
       "23    0.113590     0.0    0   40  0.244418       0  \n",
       "28    0.300298     0.0    0   40  0.244418       1  \n",
       "34    0.300298     0.0    0   40  0.244418       0  \n",
       "37    0.300298     0.0    0   44  0.244418       1  \n",
       "...        ...     ...  ...  ...       ...     ...  \n",
       "7463  0.113590     0.0    0   40  0.227273       0  \n",
       "7468  0.113590     0.0    0   30  0.185185       0  \n",
       "7473  0.113590     0.0    0   40  0.244418       0  \n",
       "7479  0.113590     0.0    0    9  0.244418       0  \n",
       "7495  0.113590     0.0    0   40  0.244418       0  \n",
       "\n",
       "[1875 rows x 15 columns]"
      ]
     },
     "execution_count": 113,
     "metadata": {},
     "output_type": "execute_result"
    }
   ],
   "source": [
    "Xtrain[Xtrain.f7.isna()]"
   ]
  },
  {
   "cell_type": "code",
   "execution_count": 114,
   "metadata": {},
   "outputs": [
    {
     "data": {
      "text/html": [
       "<div>\n",
       "<style scoped>\n",
       "    .dataframe tbody tr th:only-of-type {\n",
       "        vertical-align: middle;\n",
       "    }\n",
       "\n",
       "    .dataframe tbody tr th {\n",
       "        vertical-align: top;\n",
       "    }\n",
       "\n",
       "    .dataframe thead th {\n",
       "        text-align: right;\n",
       "    }\n",
       "</style>\n",
       "<table border=\"1\" class=\"dataframe\">\n",
       "  <thead>\n",
       "    <tr style=\"text-align: right;\">\n",
       "      <th></th>\n",
       "      <th>f1</th>\n",
       "      <th>f2</th>\n",
       "      <th>f3</th>\n",
       "      <th>f4</th>\n",
       "      <th>f5</th>\n",
       "      <th>f6</th>\n",
       "      <th>f7</th>\n",
       "      <th>f8</th>\n",
       "      <th>f9</th>\n",
       "      <th>f10</th>\n",
       "      <th>f11</th>\n",
       "      <th>f12</th>\n",
       "      <th>f13</th>\n",
       "      <th>f14</th>\n",
       "      <th>target</th>\n",
       "    </tr>\n",
       "  </thead>\n",
       "  <tbody>\n",
       "    <tr>\n",
       "      <th>count</th>\n",
       "      <td>7500.000000</td>\n",
       "      <td>7425.000000</td>\n",
       "      <td>7.500000e+03</td>\n",
       "      <td>7500.000000</td>\n",
       "      <td>7500.000000</td>\n",
       "      <td>7500.000000</td>\n",
       "      <td>5625.000000</td>\n",
       "      <td>7500.000000</td>\n",
       "      <td>7500.000000</td>\n",
       "      <td>7500.000000</td>\n",
       "      <td>7490.000000</td>\n",
       "      <td>7500.000000</td>\n",
       "      <td>7500.000000</td>\n",
       "      <td>7500.000000</td>\n",
       "      <td>7500.000000</td>\n",
       "    </tr>\n",
       "    <tr>\n",
       "      <th>mean</th>\n",
       "      <td>38.579600</td>\n",
       "      <td>238.905308</td>\n",
       "      <td>1.903850e+05</td>\n",
       "      <td>0.238933</td>\n",
       "      <td>10.083200</td>\n",
       "      <td>0.238934</td>\n",
       "      <td>0.240556</td>\n",
       "      <td>0.238933</td>\n",
       "      <td>23.893333</td>\n",
       "      <td>0.238933</td>\n",
       "      <td>1068.693992</td>\n",
       "      <td>88.974933</td>\n",
       "      <td>40.670800</td>\n",
       "      <td>0.238955</td>\n",
       "      <td>0.238933</td>\n",
       "    </tr>\n",
       "    <tr>\n",
       "      <th>std</th>\n",
       "      <td>13.647719</td>\n",
       "      <td>76.198282</td>\n",
       "      <td>1.058674e+05</td>\n",
       "      <td>0.151738</td>\n",
       "      <td>2.546071</td>\n",
       "      <td>0.190283</td>\n",
       "      <td>0.147371</td>\n",
       "      <td>0.193365</td>\n",
       "      <td>4.451530</td>\n",
       "      <td>0.087708</td>\n",
       "      <td>7430.344770</td>\n",
       "      <td>404.517032</td>\n",
       "      <td>12.330051</td>\n",
       "      <td>0.041685</td>\n",
       "      <td>0.426460</td>\n",
       "    </tr>\n",
       "    <tr>\n",
       "      <th>min</th>\n",
       "      <td>17.000000</td>\n",
       "      <td>64.259070</td>\n",
       "      <td>1.930200e+04</td>\n",
       "      <td>0.000029</td>\n",
       "      <td>1.000000</td>\n",
       "      <td>0.049127</td>\n",
       "      <td>0.000000</td>\n",
       "      <td>0.009499</td>\n",
       "      <td>5.970149</td>\n",
       "      <td>0.113590</td>\n",
       "      <td>0.000000</td>\n",
       "      <td>0.000000</td>\n",
       "      <td>1.000000</td>\n",
       "      <td>0.000080</td>\n",
       "      <td>0.000000</td>\n",
       "    </tr>\n",
       "    <tr>\n",
       "      <th>25%</th>\n",
       "      <td>28.000000</td>\n",
       "      <td>218.593930</td>\n",
       "      <td>1.180190e+05</td>\n",
       "      <td>0.171817</td>\n",
       "      <td>9.000000</td>\n",
       "      <td>0.049127</td>\n",
       "      <td>0.115721</td>\n",
       "      <td>0.066581</td>\n",
       "      <td>25.606721</td>\n",
       "      <td>0.113590</td>\n",
       "      <td>0.000000</td>\n",
       "      <td>0.000000</td>\n",
       "      <td>40.000000</td>\n",
       "      <td>0.244418</td>\n",
       "      <td>0.000000</td>\n",
       "    </tr>\n",
       "    <tr>\n",
       "      <th>50%</th>\n",
       "      <td>37.000000</td>\n",
       "      <td>218.593930</td>\n",
       "      <td>1.795685e+05</td>\n",
       "      <td>0.179322</td>\n",
       "      <td>10.000000</td>\n",
       "      <td>0.098837</td>\n",
       "      <td>0.241573</td>\n",
       "      <td>0.103024</td>\n",
       "      <td>25.606721</td>\n",
       "      <td>0.300298</td>\n",
       "      <td>0.000000</td>\n",
       "      <td>0.000000</td>\n",
       "      <td>40.000000</td>\n",
       "      <td>0.244418</td>\n",
       "      <td>0.000000</td>\n",
       "    </tr>\n",
       "    <tr>\n",
       "      <th>75%</th>\n",
       "      <td>47.000000</td>\n",
       "      <td>218.593930</td>\n",
       "      <td>2.394418e+05</td>\n",
       "      <td>0.239316</td>\n",
       "      <td>12.000000</td>\n",
       "      <td>0.445026</td>\n",
       "      <td>0.439103</td>\n",
       "      <td>0.444334</td>\n",
       "      <td>25.606721</td>\n",
       "      <td>0.300298</td>\n",
       "      <td>0.000000</td>\n",
       "      <td>0.000000</td>\n",
       "      <td>45.000000</td>\n",
       "      <td>0.244418</td>\n",
       "      <td>0.000000</td>\n",
       "    </tr>\n",
       "    <tr>\n",
       "      <th>max</th>\n",
       "      <td>90.000000</td>\n",
       "      <td>575.396825</td>\n",
       "      <td>1.226583e+06</td>\n",
       "      <td>0.729323</td>\n",
       "      <td>16.000000</td>\n",
       "      <td>0.445026</td>\n",
       "      <td>0.482222</td>\n",
       "      <td>0.484375</td>\n",
       "      <td>25.606721</td>\n",
       "      <td>0.300298</td>\n",
       "      <td>99999.000000</td>\n",
       "      <td>4356.000000</td>\n",
       "      <td>99.000000</td>\n",
       "      <td>0.466666</td>\n",
       "      <td>1.000000</td>\n",
       "    </tr>\n",
       "  </tbody>\n",
       "</table>\n",
       "</div>"
      ],
      "text/plain": [
       "                f1           f2            f3           f4           f5  \\\n",
       "count  7500.000000  7425.000000  7.500000e+03  7500.000000  7500.000000   \n",
       "mean     38.579600   238.905308  1.903850e+05     0.238933    10.083200   \n",
       "std      13.647719    76.198282  1.058674e+05     0.151738     2.546071   \n",
       "min      17.000000    64.259070  1.930200e+04     0.000029     1.000000   \n",
       "25%      28.000000   218.593930  1.180190e+05     0.171817     9.000000   \n",
       "50%      37.000000   218.593930  1.795685e+05     0.179322    10.000000   \n",
       "75%      47.000000   218.593930  2.394418e+05     0.239316    12.000000   \n",
       "max      90.000000   575.396825  1.226583e+06     0.729323    16.000000   \n",
       "\n",
       "                f6           f7           f8           f9          f10  \\\n",
       "count  7500.000000  5625.000000  7500.000000  7500.000000  7500.000000   \n",
       "mean      0.238934     0.240556     0.238933    23.893333     0.238933   \n",
       "std       0.190283     0.147371     0.193365     4.451530     0.087708   \n",
       "min       0.049127     0.000000     0.009499     5.970149     0.113590   \n",
       "25%       0.049127     0.115721     0.066581    25.606721     0.113590   \n",
       "50%       0.098837     0.241573     0.103024    25.606721     0.300298   \n",
       "75%       0.445026     0.439103     0.444334    25.606721     0.300298   \n",
       "max       0.445026     0.482222     0.484375    25.606721     0.300298   \n",
       "\n",
       "                f11          f12          f13          f14       target  \n",
       "count   7490.000000  7500.000000  7500.000000  7500.000000  7500.000000  \n",
       "mean    1068.693992    88.974933    40.670800     0.238955     0.238933  \n",
       "std     7430.344770   404.517032    12.330051     0.041685     0.426460  \n",
       "min        0.000000     0.000000     1.000000     0.000080     0.000000  \n",
       "25%        0.000000     0.000000    40.000000     0.244418     0.000000  \n",
       "50%        0.000000     0.000000    40.000000     0.244418     0.000000  \n",
       "75%        0.000000     0.000000    45.000000     0.244418     0.000000  \n",
       "max    99999.000000  4356.000000    99.000000     0.466666     1.000000  "
      ]
     },
     "execution_count": 114,
     "metadata": {},
     "output_type": "execute_result"
    }
   ],
   "source": [
    "Xtrain.describe()"
   ]
  },
  {
   "cell_type": "code",
   "execution_count": 115,
   "metadata": {},
   "outputs": [
    {
     "data": {
      "image/png": "[encoded data removed]",
      "text/plain": [
       "<Figure size 432x288 with 1 Axes>"
      ]
     },
     "metadata": {
      "needs_background": "light"
     },
     "output_type": "display_data"
    }
   ],
   "source": [
    "# гистограмму значений f7 без учета пропусков\n",
    "import matplotlib.pyplot as plt\n",
    "Xtrain['f7'].dropna().hist()\n",
    "plt.show()"
   ]
  },
  {
   "cell_type": "code",
   "execution_count": 116,
   "metadata": {},
   "outputs": [
    {
     "name": "stdout",
     "output_type": "stream",
     "text": [
      "Пропусков в f7: 1875\n"
     ]
    },
    {
     "data": {
      "image/png": "[encoded data removed]",
      "text/plain": [
       "<Figure size 432x288 with 1 Axes>"
      ]
     },
     "metadata": {
      "needs_background": "light"
     },
     "output_type": "display_data"
    }
   ],
   "source": [
    "\n",
    "# Считаем, сколько пропусков\n",
    "n_missing = Xtrain['f7'].isna().sum()\n",
    "print(f'Пропусков в f7: {n_missing}')\n",
    "\n",
    "# Рисуем гистограмму без пропусков\n",
    "(\n",
    "    Xtrain['f7']        # берём столбец\n",
    "      .dropna()         # выкидываем NaN'ы\n",
    "      .hist(bins=9)     # количество корзин равно 9 - по дефолту\n",
    ")\n",
    "\n",
    "plt.xlabel('f7')\n",
    "plt.ylabel('число наблюдений')\n",
    "plt.title('Гистограмма признака f7 (train)')\n",
    "plt.grid(True, alpha=.3)\n",
    "plt.show()"
   ]
  },
  {
   "cell_type": "code",
   "execution_count": 117,
   "metadata": {},
   "outputs": [],
   "source": [
    "#Заполняю пропуски средним значением\n",
    "mean_f7 = Xtrain['f7'].mean()          # считаем среднее только по непустым\n",
    "Xtrain['f7'] = Xtrain['f7'].fillna(mean_f7)"
   ]
  },
  {
   "cell_type": "code",
   "execution_count": 118,
   "metadata": {},
   "outputs": [
    {
     "name": "stdout",
     "output_type": "stream",
     "text": [
      "Пропусков в f7: 0\n"
     ]
    },
    {
     "data": {
      "image/png": "[encoded data removed]",
      "text/plain": [
       "<Figure size 432x288 with 1 Axes>"
      ]
     },
     "metadata": {
      "needs_background": "light"
     },
     "output_type": "display_data"
    }
   ],
   "source": [
    "n_missing = Xtrain['f7'].isna().sum()\n",
    "print(f'Пропусков в f7: {n_missing}')\n",
    "\n",
    "# Рисуем гистограмму без пропусков\n",
    "(\n",
    "    Xtrain['f7']        # берём столбец\n",
    "      .dropna()         # выкидываем NaN'ы\n",
    "      .hist(bins=9)    # количество корзин подберите под задачу\n",
    ")\n",
    "\n",
    "plt.xlabel('f7')\n",
    "plt.ylabel('число наблюдений')\n",
    "plt.title('Гистограмма признака f7 (train)')\n",
    "plt.grid(True, alpha=.3)\n",
    "plt.show()"
   ]
  },
  {
   "cell_type": "code",
   "execution_count": 119,
   "metadata": {},
   "outputs": [
    {
     "name": "stdout",
     "output_type": "stream",
     "text": [
      "Пропусков в f2: 75\n"
     ]
    },
    {
     "data": {
      "image/png": "[encoded data removed]",
      "text/plain": [
       "<Figure size 432x288 with 1 Axes>"
      ]
     },
     "metadata": {
      "needs_background": "light"
     },
     "output_type": "display_data"
    }
   ],
   "source": [
    "# Считаем, сколько пропусков\n",
    "n_missing = Xtrain['f2'].isna().sum()\n",
    "print(f'Пропусков в f2: {n_missing}')\n",
    "\n",
    "# Рисуем гистограмму без пропусков\n",
    "(\n",
    "    Xtrain['f2']        # берём столбец\n",
    "      .dropna()         # выкидываем NaN'ы\n",
    "      .hist(bins=9, color='g')  \n",
    ")\n",
    "\n",
    "plt.xlabel('f2')\n",
    "plt.ylabel('число наблюдений')\n",
    "plt.title('Гистограмма признака f2 (train)')\n",
    "plt.grid(True, alpha=.3)\n",
    "plt.show()"
   ]
  },
  {
   "cell_type": "code",
   "execution_count": 120,
   "metadata": {},
   "outputs": [],
   "source": [
    "# здесь тоже заполняем пропуски средним значением\n",
    "mean_f2 = Xtrain['f2'].mean()          # считаем среднее только по непустым\n",
    "Xtrain['f2'] = Xtrain['f2'].fillna(mean_f2)"
   ]
  },
  {
   "cell_type": "code",
   "execution_count": 121,
   "metadata": {},
   "outputs": [
    {
     "name": "stdout",
     "output_type": "stream",
     "text": [
      "Пропусков в f2: 0\n"
     ]
    },
    {
     "data": {
      "image/png": "[encoded data removed]",
      "text/plain": [
       "<Figure size 432x288 with 1 Axes>"
      ]
     },
     "metadata": {
      "needs_background": "light"
     },
     "output_type": "display_data"
    }
   ],
   "source": [
    "# Считаем, сколько пропусков\n",
    "n_missing = Xtrain['f2'].isna().sum()\n",
    "print(f'Пропусков в f2: {n_missing}')\n",
    "\n",
    "# Рисуем гистограмму без пропусков\n",
    "(\n",
    "    Xtrain['f2']        # берём столбец\n",
    "      .dropna()         # выкидываем NaN'ы\n",
    "      .hist(bins=9, color='g')  \n",
    ")\n",
    "\n",
    "plt.xlabel('f2')\n",
    "plt.ylabel('число наблюдений')\n",
    "plt.title('Гистограмма признака f2 (train)')\n",
    "plt.grid(True, alpha=.3)\n",
    "plt.show()"
   ]
  },
  {
   "cell_type": "code",
   "execution_count": 122,
   "metadata": {},
   "outputs": [
    {
     "name": "stdout",
     "output_type": "stream",
     "text": [
      "Пропусков в f11: 10\n"
     ]
    },
    {
     "data": {
      "image/png": "[encoded data removed]",
      "text/plain": [
       "<Figure size 432x288 with 1 Axes>"
      ]
     },
     "metadata": {
      "needs_background": "light"
     },
     "output_type": "display_data"
    }
   ],
   "source": [
    "# Считаем, сколько пропусков\n",
    "n_missing = Xtrain['f11'].isna().sum()\n",
    "print(f'Пропусков в f11: {n_missing}')\n",
    "\n",
    "# Рисуем гистограмму без пропусков\n",
    "(\n",
    "    Xtrain['f11']        # берём столбец\n",
    "      .dropna()         # выкидываем NaN'ы\n",
    "      .hist(bins=9, color='r')  \n",
    ")\n",
    "\n",
    "plt.xlabel('f11')\n",
    "plt.ylabel('число наблюдений')\n",
    "plt.title('Гистограмма признака f11 (train)')\n",
    "plt.grid(True, alpha=.3)\n",
    "plt.show()"
   ]
  },
  {
   "cell_type": "code",
   "execution_count": 123,
   "metadata": {},
   "outputs": [],
   "source": [
    "# удалим строки с невалидным f11\n",
    "Xtrain = Xtrain.dropna(subset=['f11'])"
   ]
  },
  {
   "cell_type": "code",
   "execution_count": 124,
   "metadata": {},
   "outputs": [
    {
     "data": {
      "text/html": [
       "<div>\n",
       "<style scoped>\n",
       "    .dataframe tbody tr th:only-of-type {\n",
       "        vertical-align: middle;\n",
       "    }\n",
       "\n",
       "    .dataframe tbody tr th {\n",
       "        vertical-align: top;\n",
       "    }\n",
       "\n",
       "    .dataframe thead th {\n",
       "        text-align: right;\n",
       "    }\n",
       "</style>\n",
       "<table border=\"1\" class=\"dataframe\">\n",
       "  <thead>\n",
       "    <tr style=\"text-align: right;\">\n",
       "      <th></th>\n",
       "      <th>f1</th>\n",
       "      <th>f2</th>\n",
       "      <th>f3</th>\n",
       "      <th>f4</th>\n",
       "      <th>f5</th>\n",
       "      <th>f6</th>\n",
       "      <th>f7</th>\n",
       "      <th>f8</th>\n",
       "      <th>f9</th>\n",
       "      <th>f10</th>\n",
       "      <th>f11</th>\n",
       "      <th>f12</th>\n",
       "      <th>f13</th>\n",
       "      <th>f14</th>\n",
       "      <th>target</th>\n",
       "    </tr>\n",
       "  </thead>\n",
       "  <tbody>\n",
       "    <tr>\n",
       "      <th>count</th>\n",
       "      <td>7490.000000</td>\n",
       "      <td>7490.000000</td>\n",
       "      <td>7.490000e+03</td>\n",
       "      <td>7490.000000</td>\n",
       "      <td>7490.000000</td>\n",
       "      <td>7490.000000</td>\n",
       "      <td>7490.000000</td>\n",
       "      <td>7490.000000</td>\n",
       "      <td>7490.000000</td>\n",
       "      <td>7490.000000</td>\n",
       "      <td>7490.000000</td>\n",
       "      <td>7490.000000</td>\n",
       "      <td>7490.000000</td>\n",
       "      <td>7490.000000</td>\n",
       "      <td>7490.000000</td>\n",
       "    </tr>\n",
       "    <tr>\n",
       "      <th>mean</th>\n",
       "      <td>38.571696</td>\n",
       "      <td>238.945126</td>\n",
       "      <td>1.904174e+05</td>\n",
       "      <td>0.238877</td>\n",
       "      <td>10.082377</td>\n",
       "      <td>0.238967</td>\n",
       "      <td>0.240563</td>\n",
       "      <td>0.238962</td>\n",
       "      <td>23.891711</td>\n",
       "      <td>0.238901</td>\n",
       "      <td>1068.693992</td>\n",
       "      <td>89.093725</td>\n",
       "      <td>40.670494</td>\n",
       "      <td>0.238931</td>\n",
       "      <td>0.238852</td>\n",
       "    </tr>\n",
       "    <tr>\n",
       "      <th>std</th>\n",
       "      <td>13.644897</td>\n",
       "      <td>75.835088</td>\n",
       "      <td>1.058984e+05</td>\n",
       "      <td>0.151658</td>\n",
       "      <td>2.545727</td>\n",
       "      <td>0.190282</td>\n",
       "      <td>0.127654</td>\n",
       "      <td>0.193371</td>\n",
       "      <td>4.453945</td>\n",
       "      <td>0.087719</td>\n",
       "      <td>7430.344770</td>\n",
       "      <td>404.773941</td>\n",
       "      <td>12.334311</td>\n",
       "      <td>0.041683</td>\n",
       "      <td>0.426410</td>\n",
       "    </tr>\n",
       "    <tr>\n",
       "      <th>min</th>\n",
       "      <td>17.000000</td>\n",
       "      <td>64.259070</td>\n",
       "      <td>1.930200e+04</td>\n",
       "      <td>0.000029</td>\n",
       "      <td>1.000000</td>\n",
       "      <td>0.049127</td>\n",
       "      <td>0.000000</td>\n",
       "      <td>0.009499</td>\n",
       "      <td>5.970149</td>\n",
       "      <td>0.113590</td>\n",
       "      <td>0.000000</td>\n",
       "      <td>0.000000</td>\n",
       "      <td>1.000000</td>\n",
       "      <td>0.000080</td>\n",
       "      <td>0.000000</td>\n",
       "    </tr>\n",
       "    <tr>\n",
       "      <th>25%</th>\n",
       "      <td>28.000000</td>\n",
       "      <td>218.593930</td>\n",
       "      <td>1.180590e+05</td>\n",
       "      <td>0.171817</td>\n",
       "      <td>9.000000</td>\n",
       "      <td>0.049127</td>\n",
       "      <td>0.131370</td>\n",
       "      <td>0.066581</td>\n",
       "      <td>25.606721</td>\n",
       "      <td>0.113590</td>\n",
       "      <td>0.000000</td>\n",
       "      <td>0.000000</td>\n",
       "      <td>40.000000</td>\n",
       "      <td>0.244418</td>\n",
       "      <td>0.000000</td>\n",
       "    </tr>\n",
       "    <tr>\n",
       "      <th>50%</th>\n",
       "      <td>37.000000</td>\n",
       "      <td>218.593930</td>\n",
       "      <td>1.795685e+05</td>\n",
       "      <td>0.179322</td>\n",
       "      <td>10.000000</td>\n",
       "      <td>0.098837</td>\n",
       "      <td>0.240556</td>\n",
       "      <td>0.103024</td>\n",
       "      <td>25.606721</td>\n",
       "      <td>0.300298</td>\n",
       "      <td>0.000000</td>\n",
       "      <td>0.000000</td>\n",
       "      <td>40.000000</td>\n",
       "      <td>0.244418</td>\n",
       "      <td>0.000000</td>\n",
       "    </tr>\n",
       "    <tr>\n",
       "      <th>75%</th>\n",
       "      <td>47.000000</td>\n",
       "      <td>238.905308</td>\n",
       "      <td>2.394472e+05</td>\n",
       "      <td>0.239316</td>\n",
       "      <td>12.000000</td>\n",
       "      <td>0.445026</td>\n",
       "      <td>0.274531</td>\n",
       "      <td>0.444334</td>\n",
       "      <td>25.606721</td>\n",
       "      <td>0.300298</td>\n",
       "      <td>0.000000</td>\n",
       "      <td>0.000000</td>\n",
       "      <td>45.000000</td>\n",
       "      <td>0.244418</td>\n",
       "      <td>0.000000</td>\n",
       "    </tr>\n",
       "    <tr>\n",
       "      <th>max</th>\n",
       "      <td>90.000000</td>\n",
       "      <td>575.396825</td>\n",
       "      <td>1.226583e+06</td>\n",
       "      <td>0.729323</td>\n",
       "      <td>16.000000</td>\n",
       "      <td>0.445026</td>\n",
       "      <td>0.482222</td>\n",
       "      <td>0.484375</td>\n",
       "      <td>25.606721</td>\n",
       "      <td>0.300298</td>\n",
       "      <td>99999.000000</td>\n",
       "      <td>4356.000000</td>\n",
       "      <td>99.000000</td>\n",
       "      <td>0.466666</td>\n",
       "      <td>1.000000</td>\n",
       "    </tr>\n",
       "  </tbody>\n",
       "</table>\n",
       "</div>"
      ],
      "text/plain": [
       "                f1           f2            f3           f4           f5  \\\n",
       "count  7490.000000  7490.000000  7.490000e+03  7490.000000  7490.000000   \n",
       "mean     38.571696   238.945126  1.904174e+05     0.238877    10.082377   \n",
       "std      13.644897    75.835088  1.058984e+05     0.151658     2.545727   \n",
       "min      17.000000    64.259070  1.930200e+04     0.000029     1.000000   \n",
       "25%      28.000000   218.593930  1.180590e+05     0.171817     9.000000   \n",
       "50%      37.000000   218.593930  1.795685e+05     0.179322    10.000000   \n",
       "75%      47.000000   238.905308  2.394472e+05     0.239316    12.000000   \n",
       "max      90.000000   575.396825  1.226583e+06     0.729323    16.000000   \n",
       "\n",
       "                f6           f7           f8           f9          f10  \\\n",
       "count  7490.000000  7490.000000  7490.000000  7490.000000  7490.000000   \n",
       "mean      0.238967     0.240563     0.238962    23.891711     0.238901   \n",
       "std       0.190282     0.127654     0.193371     4.453945     0.087719   \n",
       "min       0.049127     0.000000     0.009499     5.970149     0.113590   \n",
       "25%       0.049127     0.131370     0.066581    25.606721     0.113590   \n",
       "50%       0.098837     0.240556     0.103024    25.606721     0.300298   \n",
       "75%       0.445026     0.274531     0.444334    25.606721     0.300298   \n",
       "max       0.445026     0.482222     0.484375    25.606721     0.300298   \n",
       "\n",
       "                f11          f12          f13          f14       target  \n",
       "count   7490.000000  7490.000000  7490.000000  7490.000000  7490.000000  \n",
       "mean    1068.693992    89.093725    40.670494     0.238931     0.238852  \n",
       "std     7430.344770   404.773941    12.334311     0.041683     0.426410  \n",
       "min        0.000000     0.000000     1.000000     0.000080     0.000000  \n",
       "25%        0.000000     0.000000    40.000000     0.244418     0.000000  \n",
       "50%        0.000000     0.000000    40.000000     0.244418     0.000000  \n",
       "75%        0.000000     0.000000    45.000000     0.244418     0.000000  \n",
       "max    99999.000000  4356.000000    99.000000     0.466666     1.000000  "
      ]
     },
     "execution_count": 124,
     "metadata": {},
     "output_type": "execute_result"
    }
   ],
   "source": [
    "Xtrain.describe()"
   ]
  },
  {
   "cell_type": "markdown",
   "metadata": {},
   "source": [
    "#### 2.2  Смотрим Xtest"
   ]
  },
  {
   "cell_type": "code",
   "execution_count": 125,
   "metadata": {},
   "outputs": [
    {
     "data": {
      "image/png": "[encoded data removed]",
      "text/plain": [
       "<Figure size 432x288 with 1 Axes>"
      ]
     },
     "metadata": {
      "needs_background": "light"
     },
     "output_type": "display_data"
    }
   ],
   "source": [
    "# посмотрим Xtest\n",
    "Xtest['f7'].dropna().hist()\n",
    "plt.show()"
   ]
  },
  {
   "cell_type": "code",
   "execution_count": 126,
   "metadata": {},
   "outputs": [
    {
     "name": "stdout",
     "output_type": "stream",
     "text": [
      "<class 'pandas.core.frame.DataFrame'>\n",
      "Int64Index: 2247 entries, 7235 to 6596\n",
      "Data columns (total 14 columns):\n",
      " #   Column  Non-Null Count  Dtype  \n",
      "---  ------  --------------  -----  \n",
      " 0   f1      2247 non-null   int64  \n",
      " 1   f2      2247 non-null   float64\n",
      " 2   f3      2247 non-null   int64  \n",
      " 3   f4      2247 non-null   float64\n",
      " 4   f5      2247 non-null   int64  \n",
      " 5   f6      2247 non-null   float64\n",
      " 6   f7      2247 non-null   float64\n",
      " 7   f8      2247 non-null   float64\n",
      " 8   f9      2247 non-null   float64\n",
      " 9   f10     2247 non-null   float64\n",
      " 10  f11     2247 non-null   float64\n",
      " 11  f12     2247 non-null   int64  \n",
      " 12  f13     2247 non-null   int64  \n",
      " 13  f14     2247 non-null   float64\n",
      "dtypes: float64(9), int64(5)\n",
      "memory usage: 263.3 KB\n"
     ]
    }
   ],
   "source": [
    "# посмотрим пропуски\n",
    "Xtest.info()"
   ]
  },
  {
   "cell_type": "markdown",
   "metadata": {},
   "source": [
    "### Xtest - пропусков нет"
   ]
  },
  {
   "cell_type": "markdown",
   "metadata": {
    "id": "oQkpwQGHtWcr"
   },
   "source": [
    "### 3. Оцените баланс классов в задаче\n",
    "- Затем попытайтесь устно ответить на вопрос, можно ли использовать accuracy как метрику качества в задаче? "
   ]
  },
  {
   "cell_type": "code",
   "execution_count": 127,
   "metadata": {
    "id": "sqevAjp-tWcr"
   },
   "outputs": [
    {
     "name": "stdout",
     "output_type": "stream",
     "text": [
      "0    0.761148\n",
      "1    0.238852\n",
      "Name: target, dtype: float64\n"
     ]
    }
   ],
   "source": [
    "# Ваш код здесь\n",
    "print(Xtrain['target'].value_counts(normalize=True))"
   ]
  },
  {
   "cell_type": "markdown",
   "metadata": {},
   "source": [
    "**Вывод**:\n",
    "для задачи бинарной классификации метрика accuracy не подходит.  Лучше использовать F1-score "
   ]
  },
  {
   "cell_type": "markdown",
   "metadata": {
    "id": "xB_ReQ62tWct"
   },
   "source": [
    "### 3. Постройте baseline-модель:\n",
    "- разбейте TrainData на тренировочные (Train) и тестовые данные (Test); \n",
    "- обучите KNN, LogisticRegression и SVC с параметрами по умолчанию на тренировочных данных (Train);\n",
    "- примените модели на тестовых данных (Test) и вычислите значение метрики f1."
   ]
  },
  {
   "cell_type": "markdown",
   "metadata": {},
   "source": [
    "#### 3.1 Разбиваем данные"
   ]
  },
  {
   "cell_type": "code",
   "execution_count": 128,
   "metadata": {
    "id": "WUfRVj5ctWcu"
   },
   "outputs": [],
   "source": [
    "from sklearn.model_selection import train_test_split\n",
    "# разбиваем данные на train и test\n",
    "Xtrain, Xtest, ytrain, ytest = train_test_split(Xtrain.drop('target', axis=1), Xtrain['target'], train_size=0.7, random_state=123)\n",
    "##Ttrain, Ttest, ytrain, yval = train_test_split(Xtest.drop('target', axis=1), Xtest['target'], train_size=0.7, random_state=123)"
   ]
  },
  {
   "cell_type": "markdown",
   "metadata": {},
   "source": [
    "#### 3.2  Обучение методом k ближайших соседей"
   ]
  },
  {
   "cell_type": "code",
   "execution_count": 129,
   "metadata": {},
   "outputs": [
    {
     "data": {
      "text/plain": [
       "KNeighborsClassifier()"
      ]
     },
     "execution_count": 129,
     "metadata": {},
     "output_type": "execute_result"
    }
   ],
   "source": [
    "from sklearn.neighbors import KNeighborsClassifier\n",
    "\n",
    "knn = KNeighborsClassifier()#n_neighbors=7)\n",
    "knn.fit(Xtrain, ytrain)"
   ]
  },
  {
   "cell_type": "code",
   "execution_count": 130,
   "metadata": {},
   "outputs": [],
   "source": [
    "from sklearn.metrics import f1_score"
   ]
  },
  {
   "cell_type": "code",
   "execution_count": 131,
   "metadata": {},
   "outputs": [
    {
     "name": "stdout",
     "output_type": "stream",
     "text": [
      "accuracy для обучающей выборки: 0.8247186725157353\n",
      "accuracy для тестовой выборки: 0.7765910102358701\n"
     ]
    }
   ],
   "source": [
    "print('accuracy для обучающей выборки:', knn.score(Xtrain, ytrain))\n",
    "print('accuracy для тестовой выборки:', knn.score(Xtest, ytest))"
   ]
  },
  {
   "cell_type": "code",
   "execution_count": 132,
   "metadata": {},
   "outputs": [
    {
     "name": "stdout",
     "output_type": "stream",
     "text": [
      "F1-train: 0.5008147745790331\n",
      "F1-test: 0.31232876712328766\n"
     ]
    }
   ],
   "source": [
    "# Расчёт F1-меры\n",
    "f1_train = f1_score(ytrain, knn.predict(Xtrain))\n",
    "print(\"F1-train:\", f1_train)\n",
    "f1_test = f1_score(ytest, knn.predict(Xtest))\n",
    "print(\"F1-test:\", f1_test)"
   ]
  },
  {
   "cell_type": "code",
   "execution_count": 133,
   "metadata": {},
   "outputs": [
    {
     "data": {
      "image/png": "[encoded data removed]",
      "text/plain": [
       "<Figure size 432x288 with 2 Axes>"
      ]
     },
     "metadata": {
      "needs_background": "light"
     },
     "output_type": "display_data"
    }
   ],
   "source": [
    "# Матрица сопряженности\n",
    "from sklearn.metrics import confusion_matrix, ConfusionMatrixDisplay\n",
    "\n",
    "cm_train=confusion_matrix(ytrain, knn.predict(Xtrain))\n",
    "disp = ConfusionMatrixDisplay(confusion_matrix=cm_train, display_labels=knn.classes_)\n",
    "disp.plot(cmap=\"Blues\")\n",
    "plt.title(\"Confusion Matrix\")\n",
    "plt.show()"
   ]
  },
  {
   "cell_type": "markdown",
   "metadata": {},
   "source": [
    "#### 3.3 Логистическая регрессия"
   ]
  },
  {
   "cell_type": "code",
   "execution_count": 134,
   "metadata": {},
   "outputs": [],
   "source": [
    "from sklearn.linear_model import LogisticRegression"
   ]
  },
  {
   "cell_type": "code",
   "execution_count": 135,
   "metadata": {},
   "outputs": [
    {
     "data": {
      "text/plain": [
       "LogisticRegression()"
      ]
     },
     "execution_count": 135,
     "metadata": {},
     "output_type": "execute_result"
    }
   ],
   "source": [
    "logreg = LogisticRegression()\n",
    "logreg.fit(Xtrain, ytrain)"
   ]
  },
  {
   "cell_type": "code",
   "execution_count": 136,
   "metadata": {},
   "outputs": [
    {
     "name": "stdout",
     "output_type": "stream",
     "text": [
      "accuracy_score =0.7999237078008774\n"
     ]
    }
   ],
   "source": [
    "from sklearn.metrics import accuracy_score\n",
    "predictions = logreg.predict(Xtrain)\n",
    "print(f'accuracy_score ={accuracy_score(ytrain, predictions)}')"
   ]
  },
  {
   "cell_type": "code",
   "execution_count": 137,
   "metadata": {},
   "outputs": [
    {
     "name": "stdout",
     "output_type": "stream",
     "text": [
      "test accuracy_score =0.7997329773030708\n"
     ]
    }
   ],
   "source": [
    "test_pred = logreg.predict(Xtest)\n",
    "print(f'test accuracy_score ={accuracy_score(ytest, test_pred)}')"
   ]
  },
  {
   "cell_type": "code",
   "execution_count": 138,
   "metadata": {},
   "outputs": [
    {
     "name": "stdout",
     "output_type": "stream",
     "text": [
      "F1-train: 0.38762405137186223\n",
      "F1-test: 0.37499999999999994\n"
     ]
    }
   ],
   "source": [
    "# Расчёт F1-меры\n",
    "f1_train = f1_score(ytrain, logreg.predict(Xtrain))\n",
    "print(\"F1-train:\", f1_train)\n",
    "f1_test = f1_score(ytest, logreg.predict(Xtest))\n",
    "print(\"F1-test:\", f1_test)"
   ]
  },
  {
   "cell_type": "code",
   "execution_count": 139,
   "metadata": {},
   "outputs": [
    {
     "data": {
      "image/png": "[encoded data removed]",
      "text/plain": [
       "<Figure size 432x288 with 2 Axes>"
      ]
     },
     "metadata": {
      "needs_background": "light"
     },
     "output_type": "display_data"
    }
   ],
   "source": [
    "cm_train=confusion_matrix(ytrain, logreg.predict(Xtrain))\n",
    "disp = ConfusionMatrixDisplay(confusion_matrix=cm_train, display_labels=logreg.classes_)\n",
    "disp.plot(cmap=\"Blues\")\n",
    "plt.title(\"Confusion Matrix\")\n",
    "plt.show()"
   ]
  },
  {
   "cell_type": "markdown",
   "metadata": {},
   "source": [
    "#### 3.3  Классификатор  через метод опорных векторов"
   ]
  },
  {
   "cell_type": "code",
   "execution_count": 140,
   "metadata": {},
   "outputs": [],
   "source": [
    "from sklearn.svm import SVC"
   ]
  },
  {
   "cell_type": "code",
   "execution_count": 141,
   "metadata": {},
   "outputs": [
    {
     "data": {
      "text/plain": [
       "SVC()"
      ]
     },
     "execution_count": 141,
     "metadata": {},
     "output_type": "execute_result"
    }
   ],
   "source": [
    "model_svc=SVC()\n",
    "model_svc.fit(Xtrain, ytrain)"
   ]
  },
  {
   "cell_type": "code",
   "execution_count": 142,
   "metadata": {},
   "outputs": [
    {
     "name": "stdout",
     "output_type": "stream",
     "text": [
      "accuracy_score =0.7652107572000763\n"
     ]
    }
   ],
   "source": [
    "predictions = model_svc.predict(Xtrain)\n",
    "print(f'accuracy_score ={accuracy_score(ytrain, predictions)}')"
   ]
  },
  {
   "cell_type": "code",
   "execution_count": 143,
   "metadata": {},
   "outputs": [
    {
     "name": "stdout",
     "output_type": "stream",
     "text": [
      "test accuracy_score =0.7734757454383623\n"
     ]
    }
   ],
   "source": [
    "test_pred = model_svc.predict(Xtest)\n",
    "print(f'test accuracy_score ={accuracy_score(ytest, test_pred)}')"
   ]
  },
  {
   "cell_type": "code",
   "execution_count": 144,
   "metadata": {},
   "outputs": [
    {
     "name": "stdout",
     "output_type": "stream",
     "text": [
      "F1-train: 0.062452399086062454\n",
      "F1-test: 0.04859813084112149\n"
     ]
    }
   ],
   "source": [
    "# Расчёт F1-меры\n",
    "f1_train = f1_score(ytrain, model_svc.predict(Xtrain))\n",
    "print(\"F1-train:\", f1_train)\n",
    "f1_test = f1_score(ytest, model_svc.predict(Xtest))\n",
    "print(\"F1-test:\", f1_test)"
   ]
  },
  {
   "cell_type": "code",
   "execution_count": 145,
   "metadata": {},
   "outputs": [
    {
     "data": {
      "image/png": "[encoded data removed]",
      "text/plain": [
       "<Figure size 432x288 with 2 Axes>"
      ]
     },
     "metadata": {
      "needs_background": "light"
     },
     "output_type": "display_data"
    }
   ],
   "source": [
    "cm_train=confusion_matrix(ytrain, model_svc.predict(Xtrain))\n",
    "disp = ConfusionMatrixDisplay(confusion_matrix=cm_train, display_labels=model_svc.classes_)\n",
    "disp.plot(cmap=\"Blues\")\n",
    "plt.title(\"Confusion Matrix\")\n",
    "plt.show()"
   ]
  },
  {
   "cell_type": "markdown",
   "metadata": {
    "id": "KYQnr8CftWcv"
   },
   "source": [
    "### 4. Улучшите модели\n",
    "Попробуйте улучшить качество обученных моделей:\n",
    "- можете подбирать гиперпараметры моделей (лучше это делать по кросс-валидации на Train, то есть с помощью использования GridSearchCV на Train);\n",
    "- можете задавать class_weights;\n",
    "- можете вручную или при помощи методов Python генерировать новые признаки и/или удалять существующие.\n",
    "\n",
    "Это самая важная и творческая часть задания. Проводите как можно больше экспериментов!\n",
    "\n",
    "Проведите минимиум три эксперимента: для каждого типа модели минимум один эксперимент."
   ]
  },
  {
   "cell_type": "markdown",
   "metadata": {},
   "source": [
    "#### 4.1  KNN"
   ]
  },
  {
   "cell_type": "code",
   "execution_count": 146,
   "metadata": {
    "id": "ZJrKNIw8tWcw"
   },
   "outputs": [],
   "source": [
    "# попробуем нормализовать фичи\n",
    "\n",
    "from sklearn.preprocessing import StandardScaler"
   ]
  },
  {
   "cell_type": "code",
   "execution_count": 147,
   "metadata": {},
   "outputs": [
    {
     "data": {
      "text/plain": [
       "StandardScaler()"
      ]
     },
     "execution_count": 147,
     "metadata": {},
     "output_type": "execute_result"
    }
   ],
   "source": [
    "scaler = StandardScaler()\n",
    "scaler.fit(Xtrain)"
   ]
  },
  {
   "cell_type": "code",
   "execution_count": 148,
   "metadata": {},
   "outputs": [],
   "source": [
    "# применяем трансформацию\n",
    "X_train_norm = pd.DataFrame(scaler.transform(Xtrain), columns=Xtrain.columns)\n",
    "X_test_norm = pd.DataFrame(scaler.transform(Xtest), columns=Xtest.columns)"
   ]
  },
  {
   "cell_type": "code",
   "execution_count": 149,
   "metadata": {},
   "outputs": [
    {
     "data": {
      "text/plain": [
       "KNeighborsClassifier()"
      ]
     },
     "execution_count": 149,
     "metadata": {},
     "output_type": "execute_result"
    }
   ],
   "source": [
    "knn = KNeighborsClassifier()\n",
    "knn.fit(X_train_norm, ytrain)"
   ]
  },
  {
   "cell_type": "code",
   "execution_count": 150,
   "metadata": {},
   "outputs": [
    {
     "name": "stdout",
     "output_type": "stream",
     "text": [
      "accuracy для обучающей выборки: 0.8806027083730689\n",
      "accuracy для тестовой выборки: 0.8059635068980864\n"
     ]
    }
   ],
   "source": [
    "print('accuracy для обучающей выборки:', knn.score(X_train_norm, ytrain))\n",
    "print('accuracy для тестовой выборки:', knn.score(X_test_norm, ytest))"
   ]
  },
  {
   "cell_type": "code",
   "execution_count": 151,
   "metadata": {},
   "outputs": [
    {
     "name": "stdout",
     "output_type": "stream",
     "text": [
      "F1-train: 0.7376362112321878\n",
      "F1-test: 0.5622489959839359\n"
     ]
    }
   ],
   "source": [
    "# расчёт F1-меры\n",
    "f1_train = f1_score(ytrain, knn.predict(X_train_norm))\n",
    "print(\"F1-train:\", f1_train)\n",
    "f1_test = f1_score(ytest, knn.predict(X_test_norm))\n",
    "print(\"F1-test:\", f1_test)"
   ]
  },
  {
   "cell_type": "code",
   "execution_count": 152,
   "metadata": {},
   "outputs": [
    {
     "data": {
      "image/png": "[encoded data removed]",
      "text/plain": [
       "<Figure size 432x288 with 2 Axes>"
      ]
     },
     "metadata": {
      "needs_background": "light"
     },
     "output_type": "display_data"
    }
   ],
   "source": [
    "cm_train=confusion_matrix(ytrain, knn.predict(X_train_norm))\n",
    "disp = ConfusionMatrixDisplay(confusion_matrix=cm_train, display_labels=knn.classes_)\n",
    "disp.plot(cmap=\"Blues\")\n",
    "plt.title(\"Confusion Matrix\")\n",
    "plt.show()"
   ]
  },
  {
   "cell_type": "markdown",
   "metadata": {},
   "source": [
    "**Вывод**:\\\n",
    "Нормализация признаков улучшила значения F1-меры на обучающей и тестовой выборках"
   ]
  },
  {
   "cell_type": "markdown",
   "metadata": {},
   "source": [
    "**Используем взвешивание**"
   ]
  },
  {
   "cell_type": "code",
   "execution_count": 153,
   "metadata": {},
   "outputs": [
    {
     "data": {
      "text/plain": [
       "KNeighborsClassifier(weights='distance')"
      ]
     },
     "execution_count": 153,
     "metadata": {},
     "output_type": "execute_result"
    }
   ],
   "source": [
    "knn = KNeighborsClassifier(weights='distance')\n",
    "knn.fit(X_train_norm, ytrain)"
   ]
  },
  {
   "cell_type": "code",
   "execution_count": 154,
   "metadata": {},
   "outputs": [
    {
     "name": "stdout",
     "output_type": "stream",
     "text": [
      "accuracy для обучающей выборки: 1.0\n",
      "accuracy для тестовой выборки: 0.8072986203827325\n"
     ]
    }
   ],
   "source": [
    "print('accuracy для обучающей выборки:', knn.score(X_train_norm, ytrain))\n",
    "print('accuracy для тестовой выборки:', knn.score(X_test_norm, ytest))"
   ]
  },
  {
   "cell_type": "code",
   "execution_count": 155,
   "metadata": {},
   "outputs": [
    {
     "name": "stdout",
     "output_type": "stream",
     "text": [
      "F1-train: 1.0\n",
      "F1-test: 0.5639476334340382\n"
     ]
    }
   ],
   "source": [
    "# Расчёт F1-меры\n",
    "f1_train = f1_score(ytrain, knn.predict(X_train_norm))\n",
    "print(\"F1-train:\", f1_train)\n",
    "f1_test = f1_score(ytest, knn.predict(X_test_norm))\n",
    "print(\"F1-test:\", f1_test)"
   ]
  },
  {
   "cell_type": "code",
   "execution_count": 156,
   "metadata": {},
   "outputs": [
    {
     "data": {
      "image/png": "[encoded data removed]",
      "text/plain": [
       "<Figure size 432x288 with 2 Axes>"
      ]
     },
     "metadata": {
      "needs_background": "light"
     },
     "output_type": "display_data"
    }
   ],
   "source": [
    "cm_test=confusion_matrix(ytest, knn.predict(X_test_norm))\n",
    "disp = ConfusionMatrixDisplay(confusion_matrix=cm_test, display_labels=knn.classes_)\n",
    "disp.plot(cmap=\"Blues\")\n",
    "plt.title(\"Confusion Matrix\")\n",
    "plt.show()"
   ]
  },
  {
   "cell_type": "markdown",
   "metadata": {},
   "source": [
    "**Вывод**:\\\n",
    "Взвешивание переобучило модель на обучающей вборке, но не улучшило обобщающее свойство на тестовой выборке"
   ]
  },
  {
   "cell_type": "markdown",
   "metadata": {},
   "source": [
    "**Попробуем подобрать параметр K со взвешиванием**"
   ]
  },
  {
   "cell_type": "code",
   "execution_count": 157,
   "metadata": {},
   "outputs": [],
   "source": [
    "score_list=[]\n",
    "f1_test = []\n",
    "f1_train=[]\n",
    "for k in range(3, 41, 2):\n",
    "  knn = KNeighborsClassifier(n_neighbors=k,  weights='distance')\n",
    "  knn.fit(X_train_norm, ytrain)\n",
    "  accuracy=knn.score(X_test_norm, ytest)\n",
    "  score_list.append([k, accuracy])\n",
    "  f1 = f1_score(ytrain, knn.predict(X_train_norm))\n",
    "  f1_train.append([k, f1])\n",
    "\n",
    "  f1 = f1_score(ytest, knn.predict(X_test_norm))\n",
    "  f1_test.append([k, f1])   "
   ]
  },
  {
   "cell_type": "markdown",
   "metadata": {},
   "source": [
    "**График accuracy на тестовой выборке**"
   ]
  },
  {
   "cell_type": "code",
   "execution_count": 158,
   "metadata": {},
   "outputs": [],
   "source": [
    "score_df = pd.DataFrame(score_list, columns=['k', 'score'])"
   ]
  },
  {
   "cell_type": "code",
   "execution_count": 159,
   "metadata": {},
   "outputs": [
    {
     "data": {
      "image/png": "[encoded data removed]",
      "text/plain": [
       "<Figure size 432x288 with 1 Axes>"
      ]
     },
     "metadata": {
      "needs_background": "light"
     },
     "output_type": "display_data"
    }
   ],
   "source": [
    "plt.plot(score_df['k'], score_df['score'], linewidth=2, color='g')\n",
    "plt.xlabel('k')\n",
    "plt.ylabel('score')\n",
    "plt.show()"
   ]
  },
  {
   "cell_type": "markdown",
   "metadata": {},
   "source": [
    "**График F1 на тестовой выборке**"
   ]
  },
  {
   "cell_type": "code",
   "execution_count": 160,
   "metadata": {},
   "outputs": [],
   "source": [
    "f1_test_df = pd.DataFrame(f1_test, columns=['k', 'F1'])"
   ]
  },
  {
   "cell_type": "code",
   "execution_count": 161,
   "metadata": {},
   "outputs": [
    {
     "data": {
      "image/png": "[encoded data removed]",
      "text/plain": [
       "<Figure size 432x288 with 1 Axes>"
      ]
     },
     "metadata": {
      "needs_background": "light"
     },
     "output_type": "display_data"
    }
   ],
   "source": [
    "plt.plot(f1_test_df['k'], f1_test_df['F1'], linewidth=2, color='b')\n",
    "plt.xlabel('k')\n",
    "plt.ylabel('F1')\n",
    "plt.show()"
   ]
  },
  {
   "cell_type": "markdown",
   "metadata": {},
   "source": [
    "**Проверим на k=30 - тут лучшие результаты на тестовой выборке**"
   ]
  },
  {
   "cell_type": "code",
   "execution_count": 162,
   "metadata": {},
   "outputs": [
    {
     "data": {
      "text/plain": [
       "KNeighborsClassifier(n_neighbors=30, weights='distance')"
      ]
     },
     "execution_count": 162,
     "metadata": {},
     "output_type": "execute_result"
    }
   ],
   "source": [
    "knn = KNeighborsClassifier(n_neighbors=30, weights='distance')\n",
    "knn.fit(X_train_norm, ytrain)"
   ]
  },
  {
   "cell_type": "code",
   "execution_count": 163,
   "metadata": {},
   "outputs": [
    {
     "name": "stdout",
     "output_type": "stream",
     "text": [
      "accuracy для обучающей выборки: 1.0\n",
      "accuracy для тестовой выборки: 0.829105473965287\n"
     ]
    }
   ],
   "source": [
    "print('accuracy для обучающей выборки:', knn.score(X_train_norm, ytrain))\n",
    "print('accuracy для тестовой выборки:', knn.score(X_test_norm, ytest))"
   ]
  },
  {
   "cell_type": "code",
   "execution_count": 164,
   "metadata": {},
   "outputs": [
    {
     "name": "stdout",
     "output_type": "stream",
     "text": [
      "F1-train: 1.0\n",
      "F1-test: 0.5816993464052287\n"
     ]
    }
   ],
   "source": [
    "# Расчёт F1-меры\n",
    "f1_train = f1_score(ytrain, knn.predict(X_train_norm))\n",
    "print(\"F1-train:\", f1_train)\n",
    "f1_test = f1_score(ytest, knn.predict(X_test_norm))\n",
    "print(\"F1-test:\", f1_test)"
   ]
  },
  {
   "cell_type": "code",
   "execution_count": 165,
   "metadata": {},
   "outputs": [
    {
     "data": {
      "image/png": "[encoded data removed]",
      "text/plain": [
       "<Figure size 432x288 with 2 Axes>"
      ]
     },
     "metadata": {
      "needs_background": "light"
     },
     "output_type": "display_data"
    }
   ],
   "source": [
    "cm_test=confusion_matrix(ytest, knn.predict(X_test_norm))\n",
    "disp = ConfusionMatrixDisplay(confusion_matrix=cm_test, display_labels=knn.classes_)\n",
    "disp.plot(cmap=\"Blues\")\n",
    "plt.title(\"Confusion Matrix\")\n",
    "plt.show()"
   ]
  },
  {
   "cell_type": "markdown",
   "metadata": {},
   "source": [
    "#### 4.2 LogisticRegression"
   ]
  },
  {
   "cell_type": "code",
   "execution_count": 166,
   "metadata": {},
   "outputs": [
    {
     "name": "stdout",
     "output_type": "stream",
     "text": [
      "LogisticRegression(C=100, class_weight='balanced', max_iter=1000, penalty='l1',\n",
      "                   solver='liblinear')\n",
      "Лучшие параметры: {'C': 100, 'penalty': 'l1'}\n",
      "Лучший F1 на CV: 0.6794336529657656\n",
      "\n",
      "Метрики на тесте:\n",
      "Precision: 0.5288343558282208\n",
      "Recall: 0.8272552783109405\n",
      "F1-score: 0.6452095808383232\n",
      "\n",
      "Classification report:\n",
      "              precision    recall  f1-score   support\n",
      "\n",
      "           0       0.94      0.78      0.85      1726\n",
      "           1       0.53      0.83      0.65       521\n",
      "\n",
      "    accuracy                           0.79      2247\n",
      "   macro avg       0.73      0.80      0.75      2247\n",
      "weighted avg       0.84      0.79      0.80      2247\n",
      "\n"
     ]
    }
   ],
   "source": [
    "# применим регуляризацию через GridSearchCV\n",
    "from sklearn.model_selection import GridSearchCV\n",
    "from sklearn.metrics import precision_score, recall_score, f1_score, roc_auc_score, classification_report\n",
    "\n",
    "# Логистическая регрессия с балансировкой классов\n",
    "logreg = LogisticRegression(max_iter=1000, solver='liblinear', class_weight='balanced')\n",
    "\n",
    "# Сетка гиперпараметров\n",
    "param_grid = {\n",
    "    'C': [0.01, 0.1, 1, 10, 100],\n",
    "    'penalty': ['l1', 'l2']\n",
    "}\n",
    "\n",
    "# Подбор через GridSearchCV\n",
    "grid = GridSearchCV(\n",
    "    estimator=logreg,\n",
    "    param_grid=param_grid,\n",
    "    scoring='f1',   # оптимизация по F1\n",
    "    cv=5,\n",
    "    n_jobs=-1\n",
    ")\n",
    "\n",
    "grid.fit(Xtrain, ytrain)\n",
    "\n",
    "best_logreg_model = grid.best_estimator_\n",
    "print(best_logreg_model)\n",
    "\n",
    "# Результаты подбора\n",
    "print(\"Лучшие параметры:\", grid.best_params_)\n",
    "print(\"Лучший F1 на CV:\", grid.best_score_)\n",
    "\n",
    "# Предсказания на тесте\n",
    "y_pred = grid.predict(Xtest)\n",
    "y_proba = grid.predict_proba(Xtest)[:, 1]\n",
    "\n",
    "# Метрики\n",
    "print(\"\\nМетрики на тесте:\")\n",
    "print(\"Precision:\", precision_score(ytest, y_pred))\n",
    "print(\"Recall:\", recall_score(ytest, y_pred))\n",
    "print(\"F1-score:\", f1_score(ytest, y_pred))\n",
    "#print(\"ROC-AUC:\", roc_auc_score(ytest, y_proba))\n",
    "\n",
    "# Полный отчёт\n",
    "print(\"\\nClassification report:\")\n",
    "print(classification_report(ytest, y_pred))"
   ]
  },
  {
   "cell_type": "code",
   "execution_count": 167,
   "metadata": {},
   "outputs": [
    {
     "data": {
      "image/png": "[encoded data removed]",
      "text/plain": [
       "<Figure size 432x288 with 2 Axes>"
      ]
     },
     "metadata": {
      "needs_background": "light"
     },
     "output_type": "display_data"
    }
   ],
   "source": [
    "cm_test=confusion_matrix(ytest, grid.predict(X_test_norm))\n",
    "disp = ConfusionMatrixDisplay(confusion_matrix=cm_test, display_labels=grid.classes_)\n",
    "disp.plot(cmap=\"Blues\")\n",
    "plt.title(\"Confusion Matrix\")\n",
    "plt.show()"
   ]
  },
  {
   "cell_type": "markdown",
   "metadata": {},
   "source": [
    "#### 4.3 SVC — поиск лучших параметров"
   ]
  },
  {
   "cell_type": "code",
   "execution_count": 62,
   "metadata": {},
   "outputs": [
    {
     "name": "stdout",
     "output_type": "stream",
     "text": [
      "Fitting 3 folds for each of 5 candidates, totalling 15 fits\n",
      "f1: 0.1494 | {'C': 0.01, 'gamma': 'scale', 'kernel': 'poly'}\n",
      "f1: 0.0461 | {'C': 0.1, 'gamma': 'scale', 'kernel': 'poly'}\n",
      "f1: 0.1366 | {'C': 1, 'gamma': 'scale', 'kernel': 'poly'}\n",
      "f1: 0.2454 | {'C': 10, 'gamma': 'scale', 'kernel': 'poly'}\n",
      "f1: 0.3137 | {'C': 100, 'gamma': 'scale', 'kernel': 'poly'}\n",
      "Лучшие параметры: {'C': 100, 'gamma': 'scale', 'kernel': 'poly'}\n",
      "Лучший F1: 0.3137237972362545\n"
     ]
    }
   ],
   "source": [
    "svc = SVC(class_weight='balanced', probability=True)  # balanced — при дисбалансе классов\n",
    "\n",
    "param_grid = {\n",
    "    'C': [0.01, 0.1, 1, 10, 100],\n",
    "    'kernel': ['poly'],\n",
    "    'gamma': ['scale']\n",
    "}\n",
    "\n",
    "svc_grid = GridSearchCV(\n",
    "    svc,\n",
    "    param_grid,\n",
    "    scoring='f1',\n",
    "    cv=3,\n",
    "    n_jobs=-1,\n",
    "    verbose=3,  # Показывает каждую комбинацию и прогресс\n",
    "    return_train_score=True\n",
    ")\n",
    "svc_grid.fit(Xtrain, ytrain)\n",
    "\n",
    "# Выводим все результаты в читабельном виде\n",
    "for mean_score, params in zip(svc_grid.cv_results_['mean_test_score'], svc_grid.cv_results_['params']):\n",
    "    print(f\"f1: {mean_score:.4f} | {params}\")\n",
    "\n",
    "print(\"Лучшие параметры:\", svc_grid.best_params_)\n",
    "print(\"Лучший F1:\", svc_grid.best_score_)"
   ]
  },
  {
   "cell_type": "code",
   "execution_count": 63,
   "metadata": {},
   "outputs": [],
   "source": [
    "#param_grid = {\n",
    "#    'C': [0.01, 0.1, 1, 10, 100],\n",
    "#    'kernel': ['linear', 'rbf', 'poly'],\n",
    "#    'gamma': ['scale', 'auto', 0.01, 0.1, 1]\n",
    "#}"
   ]
  },
  {
   "cell_type": "code",
   "execution_count": 64,
   "metadata": {},
   "outputs": [
    {
     "name": "stdout",
     "output_type": "stream",
     "text": [
      "\n",
      "Метрики на тесте:\n",
      "Precision: 0.7285714285714285\n",
      "Recall: 0.19577735124760076\n",
      "F1-score: 0.30862329803328287\n",
      "\n",
      "Classification report:\n",
      "              precision    recall  f1-score   support\n",
      "\n",
      "           0       0.80      0.98      0.88      1726\n",
      "           1       0.73      0.20      0.31       521\n",
      "\n",
      "    accuracy                           0.80      2247\n",
      "   macro avg       0.76      0.59      0.59      2247\n",
      "weighted avg       0.78      0.80      0.75      2247\n",
      "\n"
     ]
    }
   ],
   "source": [
    "# Предсказания на тесте\n",
    "y_pred = svc_grid.predict(Xtest)\n",
    "y_proba = svc_grid.predict_proba(Xtest)[:, 1]\n",
    "\n",
    "# Метрики\n",
    "print(\"\\nМетрики на тесте:\")\n",
    "print(\"Precision:\", precision_score(ytest, y_pred))\n",
    "print(\"Recall:\", recall_score(ytest, y_pred))\n",
    "print(\"F1-score:\", f1_score(ytest, y_pred))\n",
    "#print(\"ROC-AUC:\", roc_auc_score(ytest, y_proba))\n",
    "\n",
    "# Полный отчёт\n",
    "print(\"\\nClassification report:\")\n",
    "print(classification_report(ytest, y_pred))"
   ]
  },
  {
   "cell_type": "code",
   "execution_count": 65,
   "metadata": {},
   "outputs": [
    {
     "data": {
      "image/png": "[encoded data removed]",
      "text/plain": [
       "<Figure size 432x288 with 2 Axes>"
      ]
     },
     "metadata": {
      "needs_background": "light"
     },
     "output_type": "display_data"
    }
   ],
   "source": [
    "cm_test=confusion_matrix(ytest, svc_grid.predict(X_test_norm))\n",
    "disp = ConfusionMatrixDisplay(confusion_matrix=cm_test, display_labels=svc_grid.classes_)\n",
    "disp.plot(cmap=\"Blues\")\n",
    "plt.title(\"Confusion Matrix\")\n",
    "plt.show()"
   ]
  },
  {
   "cell_type": "markdown",
   "metadata": {},
   "source": [
    "**Вывод:** Регулязация с параметром C=100 и полиномильаным ядром повысило метрику F1 до 0.31 на тестовой выборке (было на порядок меньше). Но сами результаты мне не нравятся.\\\n",
    "Модель явно **перекошена в сторону предсказания класса 0**."
   ]
  },
  {
   "cell_type": "markdown",
   "metadata": {},
   "source": [
    "**Примечание**: подбор порога вероятности для разделения классов делать не стал, так как компьютер требет много ресурсов на повторную оптимизацию"
   ]
  },
  {
   "cell_type": "markdown",
   "metadata": {
    "id": "yfu3yy_7tWcy"
   },
   "source": [
    "### 5. Оцените на отложенной выборке качество наилучшей модели\n",
    "В пунктах 3 и 4 вы построили много разных моделей.\n",
    "\n",
    "Возьмите ту, которая дала наилучшее качество на тестовых данных (Test). Примените её на отложенной выборке (TestData) и выведите на экран значение метрики f1."
   ]
  },
  {
   "cell_type": "markdown",
   "metadata": {
    "id": "upHUOfrktWcy"
   },
   "source": [
    "#### 5.1 Посмотрим значения F1 на тестовой выборке в TrainData\n",
    "1. 0.58  ---   K-nn при N=30     \n",
    "2. 0.64  ---   LogisticRegression при C= 100  penalty='l1'\n",
    "3. 0.31  ---   SVC   'C': 100, 'gamma': 'scale', 'kernel': 'poly'\n",
    "\n",
    "\n",
    "**Лучшая модель - LogisticRegression** (F1=0.64) при C= 100  penalty='l1'"
   ]
  },
  {
   "cell_type": "code",
   "execution_count": 168,
   "metadata": {},
   "outputs": [],
   "source": [
    "# разобьем отложенную выборку на признаки и целевые значения\n",
    "Xval=Xtestdata.drop('target', axis=1)\n",
    "yval=Xtestdata['target']"
   ]
  },
  {
   "cell_type": "code",
   "execution_count": 169,
   "metadata": {},
   "outputs": [
    {
     "data": {
      "text/html": [
       "<div>\n",
       "<style scoped>\n",
       "    .dataframe tbody tr th:only-of-type {\n",
       "        vertical-align: middle;\n",
       "    }\n",
       "\n",
       "    .dataframe tbody tr th {\n",
       "        vertical-align: top;\n",
       "    }\n",
       "\n",
       "    .dataframe thead th {\n",
       "        text-align: right;\n",
       "    }\n",
       "</style>\n",
       "<table border=\"1\" class=\"dataframe\">\n",
       "  <thead>\n",
       "    <tr style=\"text-align: right;\">\n",
       "      <th></th>\n",
       "      <th>f1</th>\n",
       "      <th>f2</th>\n",
       "      <th>f3</th>\n",
       "      <th>f4</th>\n",
       "      <th>f5</th>\n",
       "      <th>f6</th>\n",
       "      <th>f7</th>\n",
       "      <th>f8</th>\n",
       "      <th>f9</th>\n",
       "      <th>f10</th>\n",
       "      <th>f11</th>\n",
       "      <th>f12</th>\n",
       "      <th>f13</th>\n",
       "      <th>f14</th>\n",
       "    </tr>\n",
       "  </thead>\n",
       "  <tbody>\n",
       "    <tr>\n",
       "      <th>0</th>\n",
       "      <td>31</td>\n",
       "      <td>238.933333</td>\n",
       "      <td>47296</td>\n",
       "      <td>0.238933</td>\n",
       "      <td>10</td>\n",
       "      <td>0.238933</td>\n",
       "      <td>0.238933</td>\n",
       "      <td>0.238933</td>\n",
       "      <td>23.893333</td>\n",
       "      <td>0.238933</td>\n",
       "      <td>0</td>\n",
       "      <td>1740</td>\n",
       "      <td>20</td>\n",
       "      <td>0.238933</td>\n",
       "    </tr>\n",
       "    <tr>\n",
       "      <th>1</th>\n",
       "      <td>24</td>\n",
       "      <td>238.933333</td>\n",
       "      <td>33088</td>\n",
       "      <td>0.238933</td>\n",
       "      <td>7</td>\n",
       "      <td>0.238933</td>\n",
       "      <td>0.238933</td>\n",
       "      <td>0.238933</td>\n",
       "      <td>23.893333</td>\n",
       "      <td>0.238933</td>\n",
       "      <td>0</td>\n",
       "      <td>0</td>\n",
       "      <td>40</td>\n",
       "      <td>0.238933</td>\n",
       "    </tr>\n",
       "    <tr>\n",
       "      <th>2</th>\n",
       "      <td>18</td>\n",
       "      <td>238.933333</td>\n",
       "      <td>283342</td>\n",
       "      <td>0.238933</td>\n",
       "      <td>7</td>\n",
       "      <td>0.238933</td>\n",
       "      <td>0.238933</td>\n",
       "      <td>0.238933</td>\n",
       "      <td>23.893333</td>\n",
       "      <td>0.238933</td>\n",
       "      <td>0</td>\n",
       "      <td>0</td>\n",
       "      <td>20</td>\n",
       "      <td>0.238933</td>\n",
       "    </tr>\n",
       "    <tr>\n",
       "      <th>3</th>\n",
       "      <td>19</td>\n",
       "      <td>238.933333</td>\n",
       "      <td>393712</td>\n",
       "      <td>0.238933</td>\n",
       "      <td>9</td>\n",
       "      <td>0.238933</td>\n",
       "      <td>0.238933</td>\n",
       "      <td>0.238933</td>\n",
       "      <td>23.893333</td>\n",
       "      <td>0.238933</td>\n",
       "      <td>0</td>\n",
       "      <td>0</td>\n",
       "      <td>20</td>\n",
       "      <td>0.238933</td>\n",
       "    </tr>\n",
       "    <tr>\n",
       "      <th>4</th>\n",
       "      <td>28</td>\n",
       "      <td>238.933333</td>\n",
       "      <td>200515</td>\n",
       "      <td>0.238933</td>\n",
       "      <td>10</td>\n",
       "      <td>0.238933</td>\n",
       "      <td>0.238933</td>\n",
       "      <td>0.238933</td>\n",
       "      <td>23.893333</td>\n",
       "      <td>0.238933</td>\n",
       "      <td>0</td>\n",
       "      <td>0</td>\n",
       "      <td>40</td>\n",
       "      <td>0.238933</td>\n",
       "    </tr>\n",
       "  </tbody>\n",
       "</table>\n",
       "</div>"
      ],
      "text/plain": [
       "   f1          f2      f3        f4  f5        f6        f7        f8  \\\n",
       "0  31  238.933333   47296  0.238933  10  0.238933  0.238933  0.238933   \n",
       "1  24  238.933333   33088  0.238933   7  0.238933  0.238933  0.238933   \n",
       "2  18  238.933333  283342  0.238933   7  0.238933  0.238933  0.238933   \n",
       "3  19  238.933333  393712  0.238933   9  0.238933  0.238933  0.238933   \n",
       "4  28  238.933333  200515  0.238933  10  0.238933  0.238933  0.238933   \n",
       "\n",
       "          f9       f10  f11   f12  f13       f14  \n",
       "0  23.893333  0.238933    0  1740   20  0.238933  \n",
       "1  23.893333  0.238933    0     0   40  0.238933  \n",
       "2  23.893333  0.238933    0     0   20  0.238933  \n",
       "3  23.893333  0.238933    0     0   20  0.238933  \n",
       "4  23.893333  0.238933    0     0   40  0.238933  "
      ]
     },
     "execution_count": 169,
     "metadata": {},
     "output_type": "execute_result"
    }
   ],
   "source": [
    "Xval.head()"
   ]
  },
  {
   "cell_type": "code",
   "execution_count": 170,
   "metadata": {},
   "outputs": [],
   "source": [
    "# применяем трансформацию из пункта 4.1\n",
    "X_val_norm = pd.DataFrame(scaler.transform(Xval), columns=Xval.columns)"
   ]
  },
  {
   "cell_type": "code",
   "execution_count": null,
   "metadata": {},
   "outputs": [],
   "source": []
  },
  {
   "cell_type": "code",
   "execution_count": 175,
   "metadata": {},
   "outputs": [
    {
     "name": "stdout",
     "output_type": "stream",
     "text": [
      "\n",
      "Метрики на отложенной выборке:\n",
      "Precision: 0.6721763085399449\n",
      "Recall: 0.41567291311754684\n",
      "F1-score: 0.5136842105263157\n",
      "\n",
      "Classification report:\n",
      "              precision    recall  f1-score   support\n",
      "\n",
      "           0       0.84      0.94      0.89      1913\n",
      "           1       0.67      0.42      0.51       587\n",
      "\n",
      "    accuracy                           0.82      2500\n",
      "   macro avg       0.76      0.68      0.70      2500\n",
      "weighted avg       0.80      0.82      0.80      2500\n",
      "\n"
     ]
    }
   ],
   "source": [
    "# применяем к ней модель LogisticRegression при C= 100 penalty='l1' из пункта 4.2\n",
    "# Предсказания на тесте\n",
    "y_pred_val = best_logreg_model.predict(Xval)\n",
    "y_proba_val = best_logreg_model.predict_proba(Xval)[:, 1]\n",
    "\n",
    "# Метрики\n",
    "print(\"\\nМетрики на отложенной выборке:\")\n",
    "print(\"Precision:\", precision_score(yval, y_pred_val))\n",
    "print(\"Recall:\", recall_score(yval, y_pred_val))\n",
    "print(\"F1-score:\", f1_score(yval, y_pred_val))\n",
    "\n",
    "# Полный отчёт\n",
    "print(\"\\nClassification report:\")\n",
    "print(classification_report(yval, y_pred_val))"
   ]
  },
  {
   "cell_type": "code",
   "execution_count": 174,
   "metadata": {},
   "outputs": [
    {
     "data": {
      "image/png": "[encoded data removed]",
      "text/plain": [
       "<Figure size 432x288 with 2 Axes>"
      ]
     },
     "metadata": {
      "needs_background": "light"
     },
     "output_type": "display_data"
    }
   ],
   "source": [
    "cm_val=confusion_matrix(yval, best_logreg_model.predict(X_val_norm))\n",
    "disp = ConfusionMatrixDisplay(confusion_matrix=cm_val, display_labels=best_logreg_model.classes_)\n",
    "disp.plot(cmap=\"Blues\")\n",
    "plt.title(\"Confusion Matrix\")\n",
    "plt.show()"
   ]
  },
  {
   "cell_type": "code",
   "execution_count": 179,
   "metadata": {},
   "outputs": [
    {
     "name": "stdout",
     "output_type": "stream",
     "text": [
      "{'C': 100, 'class_weight': 'balanced', 'dual': False, 'fit_intercept': True, 'intercept_scaling': 1, 'l1_ratio': None, 'max_iter': 1000, 'multi_class': 'auto', 'n_jobs': None, 'penalty': 'l1', 'random_state': None, 'solver': 'liblinear', 'tol': 0.0001, 'verbose': 0, 'warm_start': False}\n"
     ]
    }
   ],
   "source": [
    "# Получаем гиперпараметры модели для проверки\n",
    "params = best_logreg_model.get_params()\n",
    "print(params)"
   ]
  },
  {
   "cell_type": "markdown",
   "metadata": {},
   "source": [
    "**Вывод**: лучшая модель также провалили тесты на огтложенной выборке — **модель также перекошена в сторону предсказания класса 0.**"
   ]
  },
  {
   "cell_type": "markdown",
   "metadata": {
    "id": "YZT0rMuStWcz"
   },
   "source": [
    "### 6. Выполните хитрый трюк\n",
    "Часто смешивание различных моделей даёт улучшение итогового предсказания. Попробуйте смешать две лучшие модели по формуле:\n",
    "$$pred_{final} = \\alpha\\cdot pred_1 + (1-\\alpha)\\cdot pred_2$$.\n",
    "\n",
    "Значение $\\alpha$ подберите в цикле по Test-выборке. Оцените качество на отложенной выборке.\n",
    "\n",
    "Удалось ли добиться улучшения качества?"
   ]
  },
  {
   "cell_type": "markdown",
   "metadata": {},
   "source": [
    "#### 6.1 Ищем оптимальное значение 𝛼 на обучающей  выборке "
   ]
  },
  {
   "cell_type": "code",
   "execution_count": 187,
   "metadata": {},
   "outputs": [],
   "source": [
    "Xtrain = pd.read_csv(\"TrainData.csv\")\n",
    "# разобьем обучающую выборку на признаки и целевые значения\n",
    "Xtrain_full=Xtrain.drop('target', axis=1)\n",
    "ytrain_full=Xtrain['target']"
   ]
  },
  {
   "cell_type": "code",
   "execution_count": 189,
   "metadata": {},
   "outputs": [],
   "source": [
    "# обработаем снова признаки\n",
    "Xtrain['f7'] = Xtrain['f7'].fillna(mean_f7)\n",
    "Xtrain['f2'] = Xtrain['f2'].fillna(mean_f2)"
   ]
  },
  {
   "cell_type": "code",
   "execution_count": 190,
   "metadata": {},
   "outputs": [],
   "source": [
    "Xtrain = Xtrain.dropna(subset=['f11'])"
   ]
  },
  {
   "cell_type": "code",
   "execution_count": 192,
   "metadata": {},
   "outputs": [],
   "source": [
    "X_train=Xtrain.drop('target', axis=1)\n",
    "y_train=Xtrain['target']"
   ]
  },
  {
   "cell_type": "code",
   "execution_count": 194,
   "metadata": {},
   "outputs": [],
   "source": [
    "# применяем трансформацию\n",
    "X_train_norm = pd.DataFrame(scaler.transform(X_train), columns=X_train.columns)"
   ]
  },
  {
   "cell_type": "code",
   "execution_count": 195,
   "metadata": {
    "id": "3DdSsk6gtWc7"
   },
   "outputs": [
    {
     "name": "stdout",
     "output_type": "stream",
     "text": [
      "Лучшее alpha: 0.99 с F1-метрикой 0.8894\n"
     ]
    }
   ],
   "source": [
    "import numpy as np\n",
    "\n",
    "# у нас есть:\n",
    "# knn и best_logreg_model — обученные модели\n",
    "# X_train_norm, y_train — обучающая выборка\n",
    "\n",
    "# Получаем вероятности классов от обеих моделей\n",
    "knn_probs = knn.predict_proba(X_train_norm)[:, 1]\n",
    "logreg_probs = best_logreg_model.predict_proba(X_train_norm)[:, 1]\n",
    "\n",
    "# Подбор alpha на тестовой выборке Xtrain\n",
    "alphas = np.linspace(0, 1, 101)  # 0.00, 0.01, ..., 1.00\n",
    "best_alpha = None\n",
    "best_score = -np.inf\n",
    "\n",
    "for alpha in alphas:\n",
    "    blended_probs = alpha * knn_probs + (1 - alpha) * logreg_probs\n",
    "    blended_preds = (blended_probs >= 0.5).astype(int)  # порог 0.5\n",
    "    score = f1_score(y_train, blended_preds)\n",
    "    \n",
    "    if score > best_score:\n",
    "        best_score = score\n",
    "        best_alpha = alpha\n",
    "\n",
    "print(f\"Лучшее alpha: {best_alpha:.2f} с F1-метрикой {best_score:.4f}\")"
   ]
  },
  {
   "cell_type": "markdown",
   "metadata": {},
   "source": [
    "#### 6.2  Создадим ансамблевое предсказание с найденной alpha"
   ]
  },
  {
   "cell_type": "code",
   "execution_count": 210,
   "metadata": {},
   "outputs": [
    {
     "data": {
      "image/png": "[encoded data removed]",
      "text/plain": [
       "<Figure size 432x288 with 2 Axes>"
      ]
     },
     "metadata": {
      "needs_background": "light"
     },
     "output_type": "display_data"
    }
   ],
   "source": [
    "# Предсказания для обучающей выборки с лучшей alpha\n",
    "knn_probs_train = knn.predict_proba(X_train_norm)[:, 1]\n",
    "logreg_probs_train = best_logreg_model.predict_proba(X_train_norm)[:, 1]\n",
    "\n",
    "blended_probs_train = best_alpha * knn_probs_train + (1 - best_alpha) * logreg_probs_train\n",
    "blended_peds_train = (blended_probs_train >= 0.5).astype(int)\n",
    "\n",
    "# Матрица сопряжённости\n",
    "cm_train = confusion_matrix(y_train, blended_peds_train)\n",
    "disp = ConfusionMatrixDisplay(confusion_matrix=cm_train, display_labels=[0, 1])\n",
    "disp.plot(cmap=\"Blues\")\n",
    "plt.title(f\"Confusion Matrix (alpha={best_alpha:.2f})\")\n",
    "plt.show()"
   ]
  },
  {
   "cell_type": "code",
   "execution_count": 211,
   "metadata": {},
   "outputs": [
    {
     "name": "stdout",
     "output_type": "stream",
     "text": [
      "\n",
      "Classification report:\n",
      "              precision    recall  f1-score   support\n",
      "\n",
      "           0       0.96      0.98      0.97      5701\n",
      "           1       0.92      0.86      0.89      1789\n",
      "\n",
      "    accuracy                           0.95      7490\n",
      "   macro avg       0.94      0.92      0.93      7490\n",
      "weighted avg       0.95      0.95      0.95      7490\n",
      "\n"
     ]
    }
   ],
   "source": [
    "# Полный отчёт\n",
    "print(\"\\nClassification report:\")\n",
    "print(classification_report(y_train, blended_peds_train))"
   ]
  },
  {
   "cell_type": "markdown",
   "metadata": {},
   "source": [
    "**Промежуточные выводы:**\\\n",
    "Использование ансамбля на полной обучающей выборке показывает, что модель смогла найти 86% всех реальных объектов класса 1. \\\n",
    "**Это очень хороший результат, похожий не неправду**\\\n",
    "Проверим на валидационной выборке\\\n",
    "При этом alfa равна 0.99. Что означает, что по факту используется K-NN модель с n=30"
   ]
  },
  {
   "cell_type": "markdown",
   "metadata": {},
   "source": [
    "#### 6.3 Проверка ансаблевой модели на валидационной выборке"
   ]
  },
  {
   "cell_type": "code",
   "execution_count": 212,
   "metadata": {},
   "outputs": [
    {
     "data": {
      "image/png": "[encoded data removed]",
      "text/plain": [
       "<Figure size 432x288 with 2 Axes>"
      ]
     },
     "metadata": {
      "needs_background": "light"
     },
     "output_type": "display_data"
    }
   ],
   "source": [
    "# Предсказания для валидационной выборки с лучшей alpha\n",
    "knn_probs_val = knn.predict_proba(X_val_norm)[:, 1]\n",
    "logreg_probs_val = best_logreg_model.predict_proba(X_val_norm)[:, 1]\n",
    "\n",
    "blended_probs_val = best_alpha * knn_probs_val + (1 - best_alpha) * logreg_probs_val\n",
    "blended_preds_val = (blended_probs_val >= 0.5).astype(int)\n",
    "\n",
    "# Матрица сопряжённости\n",
    "cm_val = confusion_matrix(yval, blended_preds_val)\n",
    "disp = ConfusionMatrixDisplay(confusion_matrix=cm_val, display_labels=[0, 1])\n",
    "disp.plot(cmap=\"Blues\")\n",
    "plt.title(f\"Confusion Matrix (alpha={best_alpha:.2f})\")\n",
    "plt.show()"
   ]
  },
  {
   "cell_type": "code",
   "execution_count": 213,
   "metadata": {},
   "outputs": [
    {
     "name": "stdout",
     "output_type": "stream",
     "text": [
      "\n",
      "Classification report:\n",
      "              precision    recall  f1-score   support\n",
      "\n",
      "           0       0.79      0.99      0.88      1913\n",
      "           1       0.85      0.16      0.27       587\n",
      "\n",
      "    accuracy                           0.80      2500\n",
      "   macro avg       0.82      0.58      0.58      2500\n",
      "weighted avg       0.81      0.80      0.74      2500\n",
      "\n"
     ]
    }
   ],
   "source": [
    "# Полный отчёт\n",
    "print(\"\\nClassification report:\")\n",
    "print(classification_report(yval, blended_preds_val))"
   ]
  },
  {
   "cell_type": "markdown",
   "metadata": {},
   "source": [
    "**Предварительные выводы**\\\n",
    "Ансамблевая модель переобучилась на обучающей выборке.\\\n",
    "Она смогла найти только 16% (Recall=0.16) от всех реальных объектов класса 1. Это говорит о том, что модель массово ошибочно классифицирует объекты класса 1 как класс 0.\\\n",
    "Низкий показатель Recall для класса 1 указывает на то, что модель не смогла обучиться распознавать важные признаки этого класса."
   ]
  },
  {
   "cell_type": "markdown",
   "metadata": {
    "id": "9b9imFkLtWc8"
   },
   "source": [
    "### 7. Сделайте выводы\n",
    "\n",
    "Запишите в отдельной ячейке текстом выводы о проделанной работе. Для этого ответьте на вопросы:\n",
    "- Какие подходы вы использовали для улучшения работы baseline-моделей?\n",
    "- Какого максимального качества удалось добиться на Test-данных?\n",
    "- Какое при этом получилось качество на отложенной выборке? \n",
    "- Ваша модель переобучилась, недообучилась или обучилась как надо?"
   ]
  },
  {
   "cell_type": "code",
   "execution_count": 68,
   "metadata": {
    "id": "wWgT4ulytWc-"
   },
   "outputs": [],
   "source": [
    "# Ваш текст здесь"
   ]
  },
  {
   "cell_type": "markdown",
   "metadata": {},
   "source": [
    "1. Я использовал нормализацию, регуляризацию, взвешиание и балансировку весов\\\n",
    "2. На тестовых данных удалось получить F1 вплоть до 0.88.  При этом фактически использовалась только одна модель KNN\\\n",
    "3. F1-метрика на отложенной выборке крайне низка = 0.27\\\n",
    "4. Модель переобучилась на обучающей выборке и имеет низкую обобщающую сопособность.Скорей всего это связано с сильным дисбалансом."
   ]
  },
  {
   "cell_type": "markdown",
   "metadata": {
    "id": "cnFjm55atWc-"
   },
   "source": [
    "Важный комментарий! В реальных задачах не следует ожидать, что машинным обучением всегда удастся решить задачу с хорошим качеством. Но использовать все имеющиеся у вас в арсенале методы для достижения наилучшего результата нужно."
   ]
  },
  {
   "cell_type": "markdown",
   "metadata": {},
   "source": [
    "**Попутный вывод**: не удалось полноценно провести поиск по сетке для SCV-модели.  Расчеты не завершались , хотя потратил много часов. Возможно это дало бы другой результат\\\n",
    "**Использование SCV черзвычайно затратно по высилительным ресурсам**, возможно я проверю этй версию позже на платных мощностях Colab Google"
   ]
  }
 ],
 "metadata": {
  "colab": {
   "collapsed_sections": [],
   "provenance": []
  },
  "kernelspec": {
   "display_name": "Python 3 (ipykernel)",
   "language": "python",
   "name": "python3"
  },
  "language_info": {
   "codemirror_mode": {
    "name": "ipython",
    "version": 3
   },
   "file_extension": ".py",
   "mimetype": "text/x-python",
   "name": "python",
   "nbconvert_exporter": "python",
   "pygments_lexer": "ipython3",
   "version": "3.9.7"
  }
 },
 "nbformat": 4,
 "nbformat_minor": 4
}

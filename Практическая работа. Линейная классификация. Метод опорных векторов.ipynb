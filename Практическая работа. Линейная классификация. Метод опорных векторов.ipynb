{
 "cells": [
  {
   "cell_type": "markdown",
   "metadata": {
    "id": "CIu2DPx5tWcg"
   },
   "source": [
    "## Практическая работа"
   ]
  },
  {
   "cell_type": "markdown",
   "metadata": {
    "id": "MEdLy24do28f"
   },
   "source": [
    "## Цели практической работы\n",
    "\n",
    "*  решить реальную задачу;\n",
    "*  потренироваться в обработке данных;\n",
    "*  обучить различные модели классификации, подобрать гиперпараметры и выбрать лучшую модель;\n",
    "*  добиться наилучшего качества в задаче."
   ]
  },
  {
   "cell_type": "markdown",
   "metadata": {
    "id": "d6oxDXgFpD_6"
   },
   "source": [
    "## Что входит в практическую работу\n",
    "\n",
    "*  исследование датасета и обработка данных (работа с пропущенными и ошибочными значениями);\n",
    "*  обучение различных моделей классификации с параметрами по умолчанию;\n",
    "*  подбор гиперпараметров моделей;\n",
    "*  смешивание моделей;\n",
    "*  оценка качества моделей."
   ]
  },
  {
   "cell_type": "markdown",
   "metadata": {
    "id": "WOZ8SueHpZGd"
   },
   "source": [
    "## Что оценивается\n",
    "\n",
    "*  Выполнены все этапы задания: код запускается, отрабатывает без ошибок; подробно и обоснованно написаны текстовые выводы, где это требуется."
   ]
  },
  {
   "cell_type": "markdown",
   "metadata": {
    "id": "UMr-wvh3pbrK"
   },
   "source": [
    "## Формат сдачи\n",
    "Выполните предложенные задания: впишите свой код (или, если требуется, текст) в ячейки после комментариев. \n",
    "\n",
    "*Комментарии — это текст, который начинается с символа #. Например: # ваш код здесь.*\n",
    "\n",
    "Сохраните изменения, используя опцию Save and Checkpoint из вкладки меню File или кнопку Save and Checkpoint на панели инструментов. Итоговый файл в формате .ipynb (файл Jupyter Notebook) загрузите в личный кабинет и отправьте на проверку."
   ]
  },
  {
   "cell_type": "markdown",
   "metadata": {
    "id": "ENiWYl_EtWcm"
   },
   "source": [
    "### 1. Загрузите тренировочные и тестовые датасеты"
   ]
  },
  {
   "cell_type": "code",
   "execution_count": 3,
   "metadata": {},
   "outputs": [
    {
     "name": "stdout",
     "output_type": "stream",
     "text": [
      "Defaulting to user installation because normal site-packages is not writeable\n",
      "Requirement already satisfied: category-encoders in c:\\users\\rosh\\appdata\\roaming\\python\\python312\\site-packages (2.8.1)\n",
      "Requirement already satisfied: numpy>=1.14.0 in c:\\programdata\\anaconda3\\lib\\site-packages (from category-encoders) (1.26.4)\n",
      "Requirement already satisfied: pandas>=1.0.5 in c:\\programdata\\anaconda3\\lib\\site-packages (from category-encoders) (2.2.2)\n",
      "Requirement already satisfied: patsy>=0.5.1 in c:\\programdata\\anaconda3\\lib\\site-packages (from category-encoders) (0.5.6)\n",
      "Requirement already satisfied: scikit-learn>=1.6.0 in c:\\users\\rosh\\appdata\\roaming\\python\\python312\\site-packages (from category-encoders) (1.7.1)\n",
      "Requirement already satisfied: scipy>=1.0.0 in c:\\programdata\\anaconda3\\lib\\site-packages (from category-encoders) (1.13.1)\n",
      "Requirement already satisfied: statsmodels>=0.9.0 in c:\\programdata\\anaconda3\\lib\\site-packages (from category-encoders) (0.14.2)\n",
      "Requirement already satisfied: python-dateutil>=2.8.2 in c:\\programdata\\anaconda3\\lib\\site-packages (from pandas>=1.0.5->category-encoders) (2.9.0.post0)\n",
      "Requirement already satisfied: pytz>=2020.1 in c:\\programdata\\anaconda3\\lib\\site-packages (from pandas>=1.0.5->category-encoders) (2024.1)\n",
      "Requirement already satisfied: tzdata>=2022.7 in c:\\programdata\\anaconda3\\lib\\site-packages (from pandas>=1.0.5->category-encoders) (2023.3)\n",
      "Requirement already satisfied: six in c:\\programdata\\anaconda3\\lib\\site-packages (from patsy>=0.5.1->category-encoders) (1.16.0)\n",
      "Requirement already satisfied: joblib>=1.2.0 in c:\\programdata\\anaconda3\\lib\\site-packages (from scikit-learn>=1.6.0->category-encoders) (1.4.2)\n",
      "Requirement already satisfied: threadpoolctl>=3.1.0 in c:\\users\\rosh\\appdata\\roaming\\python\\python312\\site-packages (from scikit-learn>=1.6.0->category-encoders) (3.6.0)\n",
      "Requirement already satisfied: packaging>=21.3 in c:\\programdata\\anaconda3\\lib\\site-packages (from statsmodels>=0.9.0->category-encoders) (23.2)\n",
      "Note: you may need to restart the kernel to use updated packages.\n"
     ]
    }
   ],
   "source": [
    "%pip install category-encoders"
   ]
  },
  {
   "cell_type": "code",
   "execution_count": 4,
   "metadata": {
    "id": "_uf-KNwQtWcn"
   },
   "outputs": [],
   "source": [
    "import pandas as pd\n",
    "from category_encoders import TargetEncoder\n",
    "from sklearn.preprocessing import StandardScaler\n",
    "from sklearn.linear_model import LogisticRegression\n",
    "from sklearn.svm import SVC\n",
    "from sklearn.neighbors import KNeighborsClassifier\n",
    "\n",
    "Xtrain = pd.read_csv(\"TrainData.csv\")\n",
    "Xtest = pd.read_csv(\"TestData.csv\")"
   ]
  },
  {
   "cell_type": "markdown",
   "metadata": {
    "id": "CaELM2gPtWcq"
   },
   "source": [
    "### 2. Изучите тренировочные и тестовые данные на наличие:\n",
    "- пропусков,\n",
    "- ошибочных значений.\n",
    "\n",
    "Обработайте пропуски и ошибочные значения способом, выбранным по своему усмотрению."
   ]
  },
  {
   "cell_type": "code",
   "execution_count": null,
   "metadata": {
    "id": "sqevAjp-tWcr"
   },
   "outputs": [],
   "source": [
    "# Ваш код здесь"
   ]
  },
  {
   "cell_type": "markdown",
   "metadata": {
    "id": "oQkpwQGHtWcr"
   },
   "source": [
    "### 3. Оцените баланс классов в задаче\n",
    "- Затем попытайтесь устно ответить на вопрос, можно ли использовать accuracy как метрику качества в задаче? "
   ]
  },
  {
   "cell_type": "code",
   "execution_count": 5,
   "metadata": {
    "id": "csjvNCCutWcs"
   },
   "outputs": [
    {
     "data": {
      "text/plain": [
       "f1          int64\n",
       "f2        float64\n",
       "f3          int64\n",
       "f4        float64\n",
       "f5          int64\n",
       "f6        float64\n",
       "f7        float64\n",
       "f8        float64\n",
       "f9        float64\n",
       "f10       float64\n",
       "f11       float64\n",
       "f12         int64\n",
       "f13         int64\n",
       "f14       float64\n",
       "target      int64\n",
       "dtype: object"
      ]
     },
     "execution_count": 5,
     "metadata": {},
     "output_type": "execute_result"
    }
   ],
   "source": [
    "# Ваш код здесь\n",
    "# посмотрим тип полей\n",
    "Xtrain.dtypes"
   ]
  },
  {
   "cell_type": "code",
   "execution_count": 6,
   "metadata": {},
   "outputs": [
    {
     "name": "stdout",
     "output_type": "stream",
     "text": [
      "<class 'pandas.core.frame.DataFrame'>\n",
      "RangeIndex: 7500 entries, 0 to 7499\n",
      "Data columns (total 15 columns):\n",
      " #   Column  Non-Null Count  Dtype  \n",
      "---  ------  --------------  -----  \n",
      " 0   f1      7500 non-null   int64  \n",
      " 1   f2      7425 non-null   float64\n",
      " 2   f3      7500 non-null   int64  \n",
      " 3   f4      7500 non-null   float64\n",
      " 4   f5      7500 non-null   int64  \n",
      " 5   f6      7500 non-null   float64\n",
      " 6   f7      5625 non-null   float64\n",
      " 7   f8      7500 non-null   float64\n",
      " 8   f9      7500 non-null   float64\n",
      " 9   f10     7500 non-null   float64\n",
      " 10  f11     7490 non-null   float64\n",
      " 11  f12     7500 non-null   int64  \n",
      " 12  f13     7500 non-null   int64  \n",
      " 13  f14     7500 non-null   float64\n",
      " 14  target  7500 non-null   int64  \n",
      "dtypes: float64(9), int64(6)\n",
      "memory usage: 879.0 KB\n"
     ]
    }
   ],
   "source": [
    "# посмотрим еще раз инофрмацию - посмотрим пропуски\n",
    "Xtrain.info()"
   ]
  },
  {
   "cell_type": "code",
   "execution_count": 7,
   "metadata": {},
   "outputs": [],
   "source": [
    "# функция для вывода информации оо пропусках\n",
    "def print_useful_rows_info(df):\n",
    "    print('Количество полностью заполненных объектов из всей выборки:', \n",
    "          len(df.dropna()))\n",
    "    print('Процент полностью заполненных объектов из всей выборки:', \n",
    "          round(len(df.dropna()) / len(df) * 100, 2))"
   ]
  },
  {
   "cell_type": "code",
   "execution_count": 8,
   "metadata": {},
   "outputs": [
    {
     "name": "stdout",
     "output_type": "stream",
     "text": [
      "Количество полностью заполненных объектов из всей выборки: 5567\n",
      "Процент полностью заполненных объектов из всей выборки: 74.23\n"
     ]
    }
   ],
   "source": [
    "print_useful_rows_info(Xtrain)"
   ]
  },
  {
   "cell_type": "code",
   "execution_count": 9,
   "metadata": {},
   "outputs": [
    {
     "data": {
      "text/html": [
       "<div>\n",
       "<style scoped>\n",
       "    .dataframe tbody tr th:only-of-type {\n",
       "        vertical-align: middle;\n",
       "    }\n",
       "\n",
       "    .dataframe tbody tr th {\n",
       "        vertical-align: top;\n",
       "    }\n",
       "\n",
       "    .dataframe thead th {\n",
       "        text-align: right;\n",
       "    }\n",
       "</style>\n",
       "<table border=\"1\" class=\"dataframe\">\n",
       "  <thead>\n",
       "    <tr style=\"text-align: right;\">\n",
       "      <th></th>\n",
       "      <th>f1</th>\n",
       "      <th>f2</th>\n",
       "      <th>f3</th>\n",
       "      <th>f4</th>\n",
       "      <th>f5</th>\n",
       "      <th>f6</th>\n",
       "      <th>f7</th>\n",
       "      <th>f8</th>\n",
       "      <th>f9</th>\n",
       "      <th>f10</th>\n",
       "      <th>f11</th>\n",
       "      <th>f12</th>\n",
       "      <th>f13</th>\n",
       "      <th>f14</th>\n",
       "      <th>target</th>\n",
       "    </tr>\n",
       "  </thead>\n",
       "  <tbody>\n",
       "    <tr>\n",
       "      <th>15</th>\n",
       "      <td>62</td>\n",
       "      <td>218.593930</td>\n",
       "      <td>121319</td>\n",
       "      <td>0.408246</td>\n",
       "      <td>13</td>\n",
       "      <td>0.445026</td>\n",
       "      <td>NaN</td>\n",
       "      <td>0.444334</td>\n",
       "      <td>25.606721</td>\n",
       "      <td>0.300298</td>\n",
       "      <td>3103.0</td>\n",
       "      <td>0</td>\n",
       "      <td>40</td>\n",
       "      <td>0.244418</td>\n",
       "      <td>1</td>\n",
       "    </tr>\n",
       "    <tr>\n",
       "      <th>23</th>\n",
       "      <td>53</td>\n",
       "      <td>218.593930</td>\n",
       "      <td>167170</td>\n",
       "      <td>0.171817</td>\n",
       "      <td>9</td>\n",
       "      <td>0.066372</td>\n",
       "      <td>NaN</td>\n",
       "      <td>0.103024</td>\n",
       "      <td>12.464986</td>\n",
       "      <td>0.113590</td>\n",
       "      <td>0.0</td>\n",
       "      <td>0</td>\n",
       "      <td>40</td>\n",
       "      <td>0.244418</td>\n",
       "      <td>0</td>\n",
       "    </tr>\n",
       "    <tr>\n",
       "      <th>28</th>\n",
       "      <td>54</td>\n",
       "      <td>218.593930</td>\n",
       "      <td>285854</td>\n",
       "      <td>0.171817</td>\n",
       "      <td>9</td>\n",
       "      <td>0.445026</td>\n",
       "      <td>NaN</td>\n",
       "      <td>0.444334</td>\n",
       "      <td>25.606721</td>\n",
       "      <td>0.300298</td>\n",
       "      <td>0.0</td>\n",
       "      <td>0</td>\n",
       "      <td>40</td>\n",
       "      <td>0.244418</td>\n",
       "      <td>1</td>\n",
       "    </tr>\n",
       "    <tr>\n",
       "      <th>34</th>\n",
       "      <td>29</td>\n",
       "      <td>218.593930</td>\n",
       "      <td>133937</td>\n",
       "      <td>0.726190</td>\n",
       "      <td>16</td>\n",
       "      <td>0.049127</td>\n",
       "      <td>NaN</td>\n",
       "      <td>0.009499</td>\n",
       "      <td>25.606721</td>\n",
       "      <td>0.300298</td>\n",
       "      <td>0.0</td>\n",
       "      <td>0</td>\n",
       "      <td>40</td>\n",
       "      <td>0.244418</td>\n",
       "      <td>0</td>\n",
       "    </tr>\n",
       "    <tr>\n",
       "      <th>37</th>\n",
       "      <td>37</td>\n",
       "      <td>218.593930</td>\n",
       "      <td>227545</td>\n",
       "      <td>0.179322</td>\n",
       "      <td>10</td>\n",
       "      <td>0.445026</td>\n",
       "      <td>NaN</td>\n",
       "      <td>0.444334</td>\n",
       "      <td>25.606721</td>\n",
       "      <td>0.300298</td>\n",
       "      <td>0.0</td>\n",
       "      <td>0</td>\n",
       "      <td>44</td>\n",
       "      <td>0.244418</td>\n",
       "      <td>1</td>\n",
       "    </tr>\n",
       "    <tr>\n",
       "      <th>...</th>\n",
       "      <td>...</td>\n",
       "      <td>...</td>\n",
       "      <td>...</td>\n",
       "      <td>...</td>\n",
       "      <td>...</td>\n",
       "      <td>...</td>\n",
       "      <td>...</td>\n",
       "      <td>...</td>\n",
       "      <td>...</td>\n",
       "      <td>...</td>\n",
       "      <td>...</td>\n",
       "      <td>...</td>\n",
       "      <td>...</td>\n",
       "      <td>...</td>\n",
       "      <td>...</td>\n",
       "    </tr>\n",
       "    <tr>\n",
       "      <th>7463</th>\n",
       "      <td>36</td>\n",
       "      <td>218.593930</td>\n",
       "      <td>118909</td>\n",
       "      <td>0.239316</td>\n",
       "      <td>12</td>\n",
       "      <td>0.049127</td>\n",
       "      <td>NaN</td>\n",
       "      <td>0.066581</td>\n",
       "      <td>12.464986</td>\n",
       "      <td>0.113590</td>\n",
       "      <td>0.0</td>\n",
       "      <td>0</td>\n",
       "      <td>40</td>\n",
       "      <td>0.227273</td>\n",
       "      <td>0</td>\n",
       "    </tr>\n",
       "    <tr>\n",
       "      <th>7468</th>\n",
       "      <td>64</td>\n",
       "      <td>386.473430</td>\n",
       "      <td>199298</td>\n",
       "      <td>0.104575</td>\n",
       "      <td>4</td>\n",
       "      <td>0.066372</td>\n",
       "      <td>NaN</td>\n",
       "      <td>0.066581</td>\n",
       "      <td>25.606721</td>\n",
       "      <td>0.113590</td>\n",
       "      <td>0.0</td>\n",
       "      <td>0</td>\n",
       "      <td>30</td>\n",
       "      <td>0.185185</td>\n",
       "      <td>0</td>\n",
       "    </tr>\n",
       "    <tr>\n",
       "      <th>7473</th>\n",
       "      <td>26</td>\n",
       "      <td>218.593930</td>\n",
       "      <td>270276</td>\n",
       "      <td>0.171817</td>\n",
       "      <td>9</td>\n",
       "      <td>0.049127</td>\n",
       "      <td>NaN</td>\n",
       "      <td>0.103024</td>\n",
       "      <td>25.606721</td>\n",
       "      <td>0.113590</td>\n",
       "      <td>0.0</td>\n",
       "      <td>0</td>\n",
       "      <td>40</td>\n",
       "      <td>0.244418</td>\n",
       "      <td>0</td>\n",
       "    </tr>\n",
       "    <tr>\n",
       "      <th>7479</th>\n",
       "      <td>69</td>\n",
       "      <td>114.416476</td>\n",
       "      <td>171050</td>\n",
       "      <td>0.171817</td>\n",
       "      <td>9</td>\n",
       "      <td>0.066372</td>\n",
       "      <td>NaN</td>\n",
       "      <td>0.103024</td>\n",
       "      <td>25.606721</td>\n",
       "      <td>0.113590</td>\n",
       "      <td>0.0</td>\n",
       "      <td>0</td>\n",
       "      <td>9</td>\n",
       "      <td>0.244418</td>\n",
       "      <td>0</td>\n",
       "    </tr>\n",
       "    <tr>\n",
       "      <th>7495</th>\n",
       "      <td>48</td>\n",
       "      <td>218.593930</td>\n",
       "      <td>329778</td>\n",
       "      <td>0.171817</td>\n",
       "      <td>9</td>\n",
       "      <td>0.066372</td>\n",
       "      <td>NaN</td>\n",
       "      <td>0.066581</td>\n",
       "      <td>25.606721</td>\n",
       "      <td>0.113590</td>\n",
       "      <td>0.0</td>\n",
       "      <td>0</td>\n",
       "      <td>40</td>\n",
       "      <td>0.244418</td>\n",
       "      <td>0</td>\n",
       "    </tr>\n",
       "  </tbody>\n",
       "</table>\n",
       "<p>1875 rows × 15 columns</p>\n",
       "</div>"
      ],
      "text/plain": [
       "      f1          f2      f3        f4  f5        f6  f7        f8         f9  \\\n",
       "15    62  218.593930  121319  0.408246  13  0.445026 NaN  0.444334  25.606721   \n",
       "23    53  218.593930  167170  0.171817   9  0.066372 NaN  0.103024  12.464986   \n",
       "28    54  218.593930  285854  0.171817   9  0.445026 NaN  0.444334  25.606721   \n",
       "34    29  218.593930  133937  0.726190  16  0.049127 NaN  0.009499  25.606721   \n",
       "37    37  218.593930  227545  0.179322  10  0.445026 NaN  0.444334  25.606721   \n",
       "...   ..         ...     ...       ...  ..       ...  ..       ...        ...   \n",
       "7463  36  218.593930  118909  0.239316  12  0.049127 NaN  0.066581  12.464986   \n",
       "7468  64  386.473430  199298  0.104575   4  0.066372 NaN  0.066581  25.606721   \n",
       "7473  26  218.593930  270276  0.171817   9  0.049127 NaN  0.103024  25.606721   \n",
       "7479  69  114.416476  171050  0.171817   9  0.066372 NaN  0.103024  25.606721   \n",
       "7495  48  218.593930  329778  0.171817   9  0.066372 NaN  0.066581  25.606721   \n",
       "\n",
       "           f10     f11  f12  f13       f14  target  \n",
       "15    0.300298  3103.0    0   40  0.244418       1  \n",
       "23    0.113590     0.0    0   40  0.244418       0  \n",
       "28    0.300298     0.0    0   40  0.244418       1  \n",
       "34    0.300298     0.0    0   40  0.244418       0  \n",
       "37    0.300298     0.0    0   44  0.244418       1  \n",
       "...        ...     ...  ...  ...       ...     ...  \n",
       "7463  0.113590     0.0    0   40  0.227273       0  \n",
       "7468  0.113590     0.0    0   30  0.185185       0  \n",
       "7473  0.113590     0.0    0   40  0.244418       0  \n",
       "7479  0.113590     0.0    0    9  0.244418       0  \n",
       "7495  0.113590     0.0    0   40  0.244418       0  \n",
       "\n",
       "[1875 rows x 15 columns]"
      ]
     },
     "execution_count": 9,
     "metadata": {},
     "output_type": "execute_result"
    }
   ],
   "source": [
    "Xtrain[Xtrain.f7.isna()]"
   ]
  },
  {
   "cell_type": "code",
   "execution_count": 10,
   "metadata": {},
   "outputs": [
    {
     "data": {
      "text/html": [
       "<div>\n",
       "<style scoped>\n",
       "    .dataframe tbody tr th:only-of-type {\n",
       "        vertical-align: middle;\n",
       "    }\n",
       "\n",
       "    .dataframe tbody tr th {\n",
       "        vertical-align: top;\n",
       "    }\n",
       "\n",
       "    .dataframe thead th {\n",
       "        text-align: right;\n",
       "    }\n",
       "</style>\n",
       "<table border=\"1\" class=\"dataframe\">\n",
       "  <thead>\n",
       "    <tr style=\"text-align: right;\">\n",
       "      <th></th>\n",
       "      <th>f1</th>\n",
       "      <th>f2</th>\n",
       "      <th>f3</th>\n",
       "      <th>f4</th>\n",
       "      <th>f5</th>\n",
       "      <th>f6</th>\n",
       "      <th>f7</th>\n",
       "      <th>f8</th>\n",
       "      <th>f9</th>\n",
       "      <th>f10</th>\n",
       "      <th>f11</th>\n",
       "      <th>f12</th>\n",
       "      <th>f13</th>\n",
       "      <th>f14</th>\n",
       "      <th>target</th>\n",
       "    </tr>\n",
       "  </thead>\n",
       "  <tbody>\n",
       "    <tr>\n",
       "      <th>count</th>\n",
       "      <td>7500.000000</td>\n",
       "      <td>7425.000000</td>\n",
       "      <td>7.500000e+03</td>\n",
       "      <td>7500.000000</td>\n",
       "      <td>7500.000000</td>\n",
       "      <td>7500.000000</td>\n",
       "      <td>5625.000000</td>\n",
       "      <td>7500.000000</td>\n",
       "      <td>7500.000000</td>\n",
       "      <td>7500.000000</td>\n",
       "      <td>7490.000000</td>\n",
       "      <td>7500.000000</td>\n",
       "      <td>7500.000000</td>\n",
       "      <td>7500.000000</td>\n",
       "      <td>7500.000000</td>\n",
       "    </tr>\n",
       "    <tr>\n",
       "      <th>mean</th>\n",
       "      <td>38.579600</td>\n",
       "      <td>238.905308</td>\n",
       "      <td>1.903850e+05</td>\n",
       "      <td>0.238933</td>\n",
       "      <td>10.083200</td>\n",
       "      <td>0.238934</td>\n",
       "      <td>0.240556</td>\n",
       "      <td>0.238933</td>\n",
       "      <td>23.893333</td>\n",
       "      <td>0.238933</td>\n",
       "      <td>1068.693992</td>\n",
       "      <td>88.974933</td>\n",
       "      <td>40.670800</td>\n",
       "      <td>0.238955</td>\n",
       "      <td>0.238933</td>\n",
       "    </tr>\n",
       "    <tr>\n",
       "      <th>std</th>\n",
       "      <td>13.647719</td>\n",
       "      <td>76.198282</td>\n",
       "      <td>1.058674e+05</td>\n",
       "      <td>0.151738</td>\n",
       "      <td>2.546071</td>\n",
       "      <td>0.190283</td>\n",
       "      <td>0.147371</td>\n",
       "      <td>0.193365</td>\n",
       "      <td>4.451530</td>\n",
       "      <td>0.087708</td>\n",
       "      <td>7430.344770</td>\n",
       "      <td>404.517032</td>\n",
       "      <td>12.330051</td>\n",
       "      <td>0.041685</td>\n",
       "      <td>0.426460</td>\n",
       "    </tr>\n",
       "    <tr>\n",
       "      <th>min</th>\n",
       "      <td>17.000000</td>\n",
       "      <td>64.259070</td>\n",
       "      <td>1.930200e+04</td>\n",
       "      <td>0.000029</td>\n",
       "      <td>1.000000</td>\n",
       "      <td>0.049127</td>\n",
       "      <td>0.000000</td>\n",
       "      <td>0.009499</td>\n",
       "      <td>5.970149</td>\n",
       "      <td>0.113590</td>\n",
       "      <td>0.000000</td>\n",
       "      <td>0.000000</td>\n",
       "      <td>1.000000</td>\n",
       "      <td>0.000080</td>\n",
       "      <td>0.000000</td>\n",
       "    </tr>\n",
       "    <tr>\n",
       "      <th>25%</th>\n",
       "      <td>28.000000</td>\n",
       "      <td>218.593930</td>\n",
       "      <td>1.180190e+05</td>\n",
       "      <td>0.171817</td>\n",
       "      <td>9.000000</td>\n",
       "      <td>0.049127</td>\n",
       "      <td>0.115721</td>\n",
       "      <td>0.066581</td>\n",
       "      <td>25.606721</td>\n",
       "      <td>0.113590</td>\n",
       "      <td>0.000000</td>\n",
       "      <td>0.000000</td>\n",
       "      <td>40.000000</td>\n",
       "      <td>0.244418</td>\n",
       "      <td>0.000000</td>\n",
       "    </tr>\n",
       "    <tr>\n",
       "      <th>50%</th>\n",
       "      <td>37.000000</td>\n",
       "      <td>218.593930</td>\n",
       "      <td>1.795685e+05</td>\n",
       "      <td>0.179322</td>\n",
       "      <td>10.000000</td>\n",
       "      <td>0.098837</td>\n",
       "      <td>0.241573</td>\n",
       "      <td>0.103024</td>\n",
       "      <td>25.606721</td>\n",
       "      <td>0.300298</td>\n",
       "      <td>0.000000</td>\n",
       "      <td>0.000000</td>\n",
       "      <td>40.000000</td>\n",
       "      <td>0.244418</td>\n",
       "      <td>0.000000</td>\n",
       "    </tr>\n",
       "    <tr>\n",
       "      <th>75%</th>\n",
       "      <td>47.000000</td>\n",
       "      <td>218.593930</td>\n",
       "      <td>2.394418e+05</td>\n",
       "      <td>0.239316</td>\n",
       "      <td>12.000000</td>\n",
       "      <td>0.445026</td>\n",
       "      <td>0.439103</td>\n",
       "      <td>0.444334</td>\n",
       "      <td>25.606721</td>\n",
       "      <td>0.300298</td>\n",
       "      <td>0.000000</td>\n",
       "      <td>0.000000</td>\n",
       "      <td>45.000000</td>\n",
       "      <td>0.244418</td>\n",
       "      <td>0.000000</td>\n",
       "    </tr>\n",
       "    <tr>\n",
       "      <th>max</th>\n",
       "      <td>90.000000</td>\n",
       "      <td>575.396825</td>\n",
       "      <td>1.226583e+06</td>\n",
       "      <td>0.729323</td>\n",
       "      <td>16.000000</td>\n",
       "      <td>0.445026</td>\n",
       "      <td>0.482222</td>\n",
       "      <td>0.484375</td>\n",
       "      <td>25.606721</td>\n",
       "      <td>0.300298</td>\n",
       "      <td>99999.000000</td>\n",
       "      <td>4356.000000</td>\n",
       "      <td>99.000000</td>\n",
       "      <td>0.466666</td>\n",
       "      <td>1.000000</td>\n",
       "    </tr>\n",
       "  </tbody>\n",
       "</table>\n",
       "</div>"
      ],
      "text/plain": [
       "                f1           f2            f3           f4           f5  \\\n",
       "count  7500.000000  7425.000000  7.500000e+03  7500.000000  7500.000000   \n",
       "mean     38.579600   238.905308  1.903850e+05     0.238933    10.083200   \n",
       "std      13.647719    76.198282  1.058674e+05     0.151738     2.546071   \n",
       "min      17.000000    64.259070  1.930200e+04     0.000029     1.000000   \n",
       "25%      28.000000   218.593930  1.180190e+05     0.171817     9.000000   \n",
       "50%      37.000000   218.593930  1.795685e+05     0.179322    10.000000   \n",
       "75%      47.000000   218.593930  2.394418e+05     0.239316    12.000000   \n",
       "max      90.000000   575.396825  1.226583e+06     0.729323    16.000000   \n",
       "\n",
       "                f6           f7           f8           f9          f10  \\\n",
       "count  7500.000000  5625.000000  7500.000000  7500.000000  7500.000000   \n",
       "mean      0.238934     0.240556     0.238933    23.893333     0.238933   \n",
       "std       0.190283     0.147371     0.193365     4.451530     0.087708   \n",
       "min       0.049127     0.000000     0.009499     5.970149     0.113590   \n",
       "25%       0.049127     0.115721     0.066581    25.606721     0.113590   \n",
       "50%       0.098837     0.241573     0.103024    25.606721     0.300298   \n",
       "75%       0.445026     0.439103     0.444334    25.606721     0.300298   \n",
       "max       0.445026     0.482222     0.484375    25.606721     0.300298   \n",
       "\n",
       "                f11          f12          f13          f14       target  \n",
       "count   7490.000000  7500.000000  7500.000000  7500.000000  7500.000000  \n",
       "mean    1068.693992    88.974933    40.670800     0.238955     0.238933  \n",
       "std     7430.344770   404.517032    12.330051     0.041685     0.426460  \n",
       "min        0.000000     0.000000     1.000000     0.000080     0.000000  \n",
       "25%        0.000000     0.000000    40.000000     0.244418     0.000000  \n",
       "50%        0.000000     0.000000    40.000000     0.244418     0.000000  \n",
       "75%        0.000000     0.000000    45.000000     0.244418     0.000000  \n",
       "max    99999.000000  4356.000000    99.000000     0.466666     1.000000  "
      ]
     },
     "execution_count": 10,
     "metadata": {},
     "output_type": "execute_result"
    }
   ],
   "source": [
    "Xtrain.describe()"
   ]
  },
  {
   "cell_type": "code",
   "execution_count": 11,
   "metadata": {},
   "outputs": [
    {
     "data": {
      "image/png": "[encoded data removed]",
      "text/plain": [
       "<Figure size 640x480 with 1 Axes>"
      ]
     },
     "metadata": {},
     "output_type": "display_data"
    }
   ],
   "source": [
    "# гистограмму значений f7 без учета пропусков\n",
    "import matplotlib.pyplot as plt\n",
    "Xtrain['f7'].dropna().hist()\n",
    "plt.show()"
   ]
  },
  {
   "cell_type": "code",
   "execution_count": 12,
   "metadata": {},
   "outputs": [
    {
     "name": "stdout",
     "output_type": "stream",
     "text": [
      "Пропусков в f7: 1875\n"
     ]
    },
    {
     "data": {
      "image/png": "[encoded data removed]",
      "text/plain": [
       "<Figure size 640x480 with 1 Axes>"
      ]
     },
     "metadata": {},
     "output_type": "display_data"
    }
   ],
   "source": [
    "\n",
    "# Считаем, сколько пропусков\n",
    "n_missing = Xtrain['f7'].isna().sum()\n",
    "print(f'Пропусков в f7: {n_missing}')\n",
    "\n",
    "# Рисуем гистограмму без пропусков\n",
    "(\n",
    "    Xtrain['f7']        # берём столбец\n",
    "      .dropna()         # выкидываем NaN'ы\n",
    "      .hist(bins=30)    # количество корзин подберите под задачу\n",
    ")\n",
    "\n",
    "plt.xlabel('f7')\n",
    "plt.ylabel('число наблюдений')\n",
    "plt.title('Гистограмма признака f7 (train)')\n",
    "plt.grid(True, alpha=.3)\n",
    "plt.show()"
   ]
  },
  {
   "cell_type": "code",
   "execution_count": 14,
   "metadata": {},
   "outputs": [],
   "source": [
    "#Заполняю пропуски средним значением\n",
    "mean_f7 = Xtrain['f7'].mean()          # считаем среднее только по непустым\n",
    "Xtrain['f7'] = Xtrain['f7'].fillna(mean_f7)"
   ]
  },
  {
   "cell_type": "code",
   "execution_count": 15,
   "metadata": {},
   "outputs": [
    {
     "name": "stdout",
     "output_type": "stream",
     "text": [
      "Пропусков в f7: 0\n"
     ]
    },
    {
     "data": {
      "image/png": "[encoded data removed]",
      "text/plain": [
       "<Figure size 640x480 with 1 Axes>"
      ]
     },
     "metadata": {},
     "output_type": "display_data"
    }
   ],
   "source": [
    "n_missing = Xtrain['f7'].isna().sum()\n",
    "print(f'Пропусков в f7: {n_missing}')\n",
    "\n",
    "# Рисуем гистограмму без пропусков\n",
    "(\n",
    "    Xtrain['f7']        # берём столбец\n",
    "      .dropna()         # выкидываем NaN'ы\n",
    "      .hist(bins=30)    # количество корзин подберите под задачу\n",
    ")\n",
    "\n",
    "plt.xlabel('f7')\n",
    "plt.ylabel('число наблюдений')\n",
    "plt.title('Гистограмма признака f7 (train)')\n",
    "plt.grid(True, alpha=.3)\n",
    "plt.show()"
   ]
  },
  {
   "cell_type": "markdown",
   "metadata": {
    "id": "xB_ReQ62tWct"
   },
   "source": [
    "### 3. Постройте baseline-модель:\n",
    "- разбейте TrainData на тренировочные (Train) и тестовые данные (Test); \n",
    "- обучите KNN, LogisticRegression и SVC с параметрами по умолчанию на тренировочных данных (Train);\n",
    "- примените модели на тестовых данных (Test) и вычислите значение метрики f1."
   ]
  },
  {
   "cell_type": "code",
   "execution_count": null,
   "metadata": {
    "id": "WUfRVj5ctWcu"
   },
   "outputs": [],
   "source": [
    "from sklearn.metrics import f1_score\n",
    "\n",
    "# Ваш код здесь"
   ]
  },
  {
   "cell_type": "markdown",
   "metadata": {
    "id": "KYQnr8CftWcv"
   },
   "source": [
    "### 4. Улучшите модели\n",
    "Попробуйте улучшить качество обученных моделей:\n",
    "- можете подбирать гиперпараметры моделей (лучше это делать по кросс-валидации на Train, то есть с помощью использования GridSearchCV на Train);\n",
    "- можете задавать class_weights;\n",
    "- можете вручную или при помощи методов Python генерировать новые признаки и/или удалять существующие.\n",
    "\n",
    "Это самая важная и творческая часть задания. Проводите как можно больше экспериментов!\n",
    "\n",
    "Проведите минимиум три эксперимента: для каждого типа модели минимум один эксперимент."
   ]
  },
  {
   "cell_type": "code",
   "execution_count": null,
   "metadata": {
    "id": "ZJrKNIw8tWcw"
   },
   "outputs": [],
   "source": [
    "# Ваш код здесь"
   ]
  },
  {
   "cell_type": "markdown",
   "metadata": {
    "id": "yfu3yy_7tWcy"
   },
   "source": [
    "### 5. Оцените на отложенной выборке качество наилучшей модели\n",
    "В пунктах 3 и 4 вы построили много разных моделей.\n",
    "\n",
    "Возьмите ту, которая дала наилучшее качество на тестовых данных (Test). Примените её на отложенной выборке (TestData) и выведите на экран значение метрики f1."
   ]
  },
  {
   "cell_type": "code",
   "execution_count": null,
   "metadata": {
    "id": "upHUOfrktWcy"
   },
   "outputs": [],
   "source": [
    "# Ваш код здесь"
   ]
  },
  {
   "cell_type": "markdown",
   "metadata": {
    "id": "YZT0rMuStWcz"
   },
   "source": [
    "### 6. Выполните хитрый трюк\n",
    "Часто смешивание различных моделей даёт улучшение итогового предсказания. Попробуйте смешать две лучшие модели по формуле:\n",
    "$$pred_{final} = \\alpha\\cdot pred_1 + (1-\\alpha)\\cdot pred_2$$.\n",
    "\n",
    "Значение $\\alpha$ подберите в цикле по Test-выборке. Оцените качество на отложенной выборке.\n",
    "\n",
    "Удалось ли добиться улучшения качества?"
   ]
  },
  {
   "cell_type": "code",
   "execution_count": null,
   "metadata": {
    "id": "3DdSsk6gtWc7"
   },
   "outputs": [],
   "source": [
    "# Ваш код здесь"
   ]
  },
  {
   "cell_type": "markdown",
   "metadata": {
    "id": "9b9imFkLtWc8"
   },
   "source": [
    "### 7. Сделайте выводы\n",
    "\n",
    "Запишите в отдельной ячейке текстом выводы о проделанной работе. Для этого ответьте на вопросы:\n",
    "- Какие подходы вы использовали для улучшения работы baseline-моделей?\n",
    "- Какого максимального качества удалось добиться на Test-данных?\n",
    "- Какое при этом получилось качество на отложенной выборке? \n",
    "- Ваша модель переобучилась, недообучилась или обучилась как надо?"
   ]
  },
  {
   "cell_type": "code",
   "execution_count": null,
   "metadata": {
    "id": "wWgT4ulytWc-"
   },
   "outputs": [],
   "source": [
    "# Ваш текст здесь"
   ]
  },
  {
   "cell_type": "markdown",
   "metadata": {
    "id": "cnFjm55atWc-"
   },
   "source": [
    "Важный комментарий! В реальных задачах не следует ожидать, что машинным обучением всегда удастся решить задачу с хорошим качеством. Но использовать все имеющиеся у вас в арсенале методы для достижения наилучшего результата нужно."
   ]
  },
  {
   "cell_type": "code",
   "execution_count": null,
   "metadata": {},
   "outputs": [],
   "source": []
  }
 ],
 "metadata": {
  "colab": {
   "collapsed_sections": [],
   "provenance": []
  },
  "kernelspec": {
   "display_name": "Python 3 (ipykernel)",
   "language": "python",
   "name": "python3"
  },
  "language_info": {
   "codemirror_mode": {
    "name": "ipython",
    "version": 3
   },
   "file_extension": ".py",
   "mimetype": "text/x-python",
   "name": "python",
   "nbconvert_exporter": "python",
   "pygments_lexer": "ipython3",
   "version": "3.12.4"
  }
 },
 "nbformat": 4,
 "nbformat_minor": 4
}
